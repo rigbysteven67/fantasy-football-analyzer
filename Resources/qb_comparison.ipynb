{
 "cells": [
  {
   "cell_type": "code",
   "execution_count": 1,
   "metadata": {},
   "outputs": [],
   "source": [
    "# Import scraping modules\n",
    "from urllib.request import urlopen\n",
    "from bs4 import BeautifulSoup\n",
    "\n",
    "# Import data manipulation modules\n",
    "import pandas as pd\n",
    "import numpy as np\n",
    "\n",
    "# Import data visualization modules\n",
    "import matplotlib as mpl\n",
    "import matplotlib.pyplot as plt\n",
    "\n",
    "import plotly.graph_objects as go"
   ]
  },
  {
   "cell_type": "markdown",
   "metadata": {},
   "source": [
    "# Passing Comparisons"
   ]
  },
  {
   "cell_type": "code",
   "execution_count": 43,
   "metadata": {},
   "outputs": [
    {
     "data": {
      "text/html": [
       "<div>\n",
       "<style scoped>\n",
       "    .dataframe tbody tr th:only-of-type {\n",
       "        vertical-align: middle;\n",
       "    }\n",
       "\n",
       "    .dataframe tbody tr th {\n",
       "        vertical-align: top;\n",
       "    }\n",
       "\n",
       "    .dataframe thead th {\n",
       "        text-align: right;\n",
       "    }\n",
       "</style>\n",
       "<table border=\"1\" class=\"dataframe\">\n",
       "  <thead>\n",
       "    <tr style=\"text-align: right;\">\n",
       "      <th></th>\n",
       "      <th>Player</th>\n",
       "      <th>Tm</th>\n",
       "      <th>Age</th>\n",
       "      <th>Pos</th>\n",
       "      <th>G</th>\n",
       "      <th>GS</th>\n",
       "      <th>QBrec</th>\n",
       "      <th>Cmp</th>\n",
       "      <th>Att</th>\n",
       "      <th>Cmp%</th>\n",
       "      <th>...</th>\n",
       "      <th>Rate</th>\n",
       "      <th>QBR</th>\n",
       "      <th>Sk</th>\n",
       "      <th>Yds_Sack</th>\n",
       "      <th>NY/A</th>\n",
       "      <th>ANY/A</th>\n",
       "      <th>Sk%</th>\n",
       "      <th>4QC</th>\n",
       "      <th>GWD</th>\n",
       "      <th>Season</th>\n",
       "    </tr>\n",
       "  </thead>\n",
       "  <tbody>\n",
       "    <tr>\n",
       "      <th>0</th>\n",
       "      <td>Matt Ryan</td>\n",
       "      <td>ATL</td>\n",
       "      <td>35</td>\n",
       "      <td>QB</td>\n",
       "      <td>16</td>\n",
       "      <td>16</td>\n",
       "      <td>4-12-0</td>\n",
       "      <td>407</td>\n",
       "      <td>626</td>\n",
       "      <td>65.0</td>\n",
       "      <td>...</td>\n",
       "      <td>93.3</td>\n",
       "      <td>66.9</td>\n",
       "      <td>41</td>\n",
       "      <td>257</td>\n",
       "      <td>6.48</td>\n",
       "      <td>6.52</td>\n",
       "      <td>6.1</td>\n",
       "      <td></td>\n",
       "      <td></td>\n",
       "      <td>2020</td>\n",
       "    </tr>\n",
       "    <tr>\n",
       "      <th>1</th>\n",
       "      <td>Tom Brady</td>\n",
       "      <td>TAM</td>\n",
       "      <td>43</td>\n",
       "      <td>QB</td>\n",
       "      <td>16</td>\n",
       "      <td>16</td>\n",
       "      <td>11-5-0</td>\n",
       "      <td>401</td>\n",
       "      <td>610</td>\n",
       "      <td>65.7</td>\n",
       "      <td>...</td>\n",
       "      <td>102.2</td>\n",
       "      <td>72.6</td>\n",
       "      <td>21</td>\n",
       "      <td>143</td>\n",
       "      <td>7.12</td>\n",
       "      <td>7.53</td>\n",
       "      <td>3.3</td>\n",
       "      <td>3</td>\n",
       "      <td>3</td>\n",
       "      <td>2020</td>\n",
       "    </tr>\n",
       "    <tr>\n",
       "      <th>2</th>\n",
       "      <td>Ben Roethlisberger</td>\n",
       "      <td>PIT</td>\n",
       "      <td>38</td>\n",
       "      <td>QB</td>\n",
       "      <td>15</td>\n",
       "      <td>15</td>\n",
       "      <td>12-3-0</td>\n",
       "      <td>399</td>\n",
       "      <td>608</td>\n",
       "      <td>65.6</td>\n",
       "      <td>...</td>\n",
       "      <td>94.1</td>\n",
       "      <td>60.1</td>\n",
       "      <td>13</td>\n",
       "      <td>118</td>\n",
       "      <td>5.93</td>\n",
       "      <td>6.27</td>\n",
       "      <td>2.1</td>\n",
       "      <td>4</td>\n",
       "      <td>4</td>\n",
       "      <td>2020</td>\n",
       "    </tr>\n",
       "    <tr>\n",
       "      <th>3</th>\n",
       "      <td>Justin Herbert</td>\n",
       "      <td>LAC</td>\n",
       "      <td>22</td>\n",
       "      <td>QB</td>\n",
       "      <td>15</td>\n",
       "      <td>15</td>\n",
       "      <td>6-9-0</td>\n",
       "      <td>396</td>\n",
       "      <td>595</td>\n",
       "      <td>66.6</td>\n",
       "      <td>...</td>\n",
       "      <td>98.3</td>\n",
       "      <td>69.6</td>\n",
       "      <td>32</td>\n",
       "      <td>218</td>\n",
       "      <td>6.57</td>\n",
       "      <td>6.84</td>\n",
       "      <td>5.1</td>\n",
       "      <td>1</td>\n",
       "      <td>3</td>\n",
       "      <td>2020</td>\n",
       "    </tr>\n",
       "    <tr>\n",
       "      <th>4</th>\n",
       "      <td>Patrick Mahomes *</td>\n",
       "      <td>KAN</td>\n",
       "      <td>25</td>\n",
       "      <td>QB</td>\n",
       "      <td>15</td>\n",
       "      <td>15</td>\n",
       "      <td>14-1-0</td>\n",
       "      <td>390</td>\n",
       "      <td>588</td>\n",
       "      <td>66.3</td>\n",
       "      <td>...</td>\n",
       "      <td>108.2</td>\n",
       "      <td>82.9</td>\n",
       "      <td>22</td>\n",
       "      <td>147</td>\n",
       "      <td>7.53</td>\n",
       "      <td>8.33</td>\n",
       "      <td>3.6</td>\n",
       "      <td>3</td>\n",
       "      <td>3</td>\n",
       "      <td>2020</td>\n",
       "    </tr>\n",
       "    <tr>\n",
       "      <th>5</th>\n",
       "      <td>Josh Allen *</td>\n",
       "      <td>BUF</td>\n",
       "      <td>24</td>\n",
       "      <td>QB</td>\n",
       "      <td>16</td>\n",
       "      <td>16</td>\n",
       "      <td>13-3-0</td>\n",
       "      <td>396</td>\n",
       "      <td>572</td>\n",
       "      <td>69.2</td>\n",
       "      <td>...</td>\n",
       "      <td>107.2</td>\n",
       "      <td>81.7</td>\n",
       "      <td>26</td>\n",
       "      <td>159</td>\n",
       "      <td>7.33</td>\n",
       "      <td>7.82</td>\n",
       "      <td>4.3</td>\n",
       "      <td>2</td>\n",
       "      <td>3</td>\n",
       "      <td>2020</td>\n",
       "    </tr>\n",
       "    <tr>\n",
       "      <th>6</th>\n",
       "      <td>Kyler Murray *</td>\n",
       "      <td>ARI</td>\n",
       "      <td>23</td>\n",
       "      <td>QB</td>\n",
       "      <td>16</td>\n",
       "      <td>16</td>\n",
       "      <td>8-8-0</td>\n",
       "      <td>375</td>\n",
       "      <td>558</td>\n",
       "      <td>67.2</td>\n",
       "      <td>...</td>\n",
       "      <td>94.3</td>\n",
       "      <td>68.9</td>\n",
       "      <td>27</td>\n",
       "      <td>176</td>\n",
       "      <td>6.49</td>\n",
       "      <td>6.45</td>\n",
       "      <td>4.6</td>\n",
       "      <td>3</td>\n",
       "      <td>4</td>\n",
       "      <td>2020</td>\n",
       "    </tr>\n",
       "    <tr>\n",
       "      <th>7</th>\n",
       "      <td>Russell Wilson *</td>\n",
       "      <td>SEA</td>\n",
       "      <td>32</td>\n",
       "      <td>QB</td>\n",
       "      <td>16</td>\n",
       "      <td>16</td>\n",
       "      <td>12-4-0</td>\n",
       "      <td>384</td>\n",
       "      <td>558</td>\n",
       "      <td>68.8</td>\n",
       "      <td>...</td>\n",
       "      <td>105.1</td>\n",
       "      <td>73.5</td>\n",
       "      <td>47</td>\n",
       "      <td>301</td>\n",
       "      <td>6.46</td>\n",
       "      <td>6.82</td>\n",
       "      <td>7.8</td>\n",
       "      <td>3</td>\n",
       "      <td>3</td>\n",
       "      <td>2020</td>\n",
       "    </tr>\n",
       "    <tr>\n",
       "      <th>8</th>\n",
       "      <td>Jared Goff</td>\n",
       "      <td>LAR</td>\n",
       "      <td>26</td>\n",
       "      <td>QB</td>\n",
       "      <td>15</td>\n",
       "      <td>15</td>\n",
       "      <td>9-6-0</td>\n",
       "      <td>370</td>\n",
       "      <td>552</td>\n",
       "      <td>67.0</td>\n",
       "      <td>...</td>\n",
       "      <td>90.0</td>\n",
       "      <td>58.4</td>\n",
       "      <td>23</td>\n",
       "      <td>161</td>\n",
       "      <td>6.59</td>\n",
       "      <td>6.27</td>\n",
       "      <td>4.0</td>\n",
       "      <td>0</td>\n",
       "      <td>1</td>\n",
       "      <td>2020</td>\n",
       "    </tr>\n",
       "    <tr>\n",
       "      <th>9</th>\n",
       "      <td>Deshaun Watson *</td>\n",
       "      <td>HOU</td>\n",
       "      <td>25</td>\n",
       "      <td>QB</td>\n",
       "      <td>16</td>\n",
       "      <td>16</td>\n",
       "      <td>4-12-0</td>\n",
       "      <td>382</td>\n",
       "      <td>544</td>\n",
       "      <td>70.2</td>\n",
       "      <td>...</td>\n",
       "      <td>112.4</td>\n",
       "      <td>70.5</td>\n",
       "      <td>49</td>\n",
       "      <td>293</td>\n",
       "      <td>7.64</td>\n",
       "      <td>8.22</td>\n",
       "      <td>8.3</td>\n",
       "      <td></td>\n",
       "      <td></td>\n",
       "      <td>2020</td>\n",
       "    </tr>\n",
       "    <tr>\n",
       "      <th>10</th>\n",
       "      <td>Philip Rivers</td>\n",
       "      <td>IND</td>\n",
       "      <td>39</td>\n",
       "      <td>QB</td>\n",
       "      <td>16</td>\n",
       "      <td>16</td>\n",
       "      <td>11-5-0</td>\n",
       "      <td>369</td>\n",
       "      <td>543</td>\n",
       "      <td>68.0</td>\n",
       "      <td>...</td>\n",
       "      <td>97.0</td>\n",
       "      <td>62.5</td>\n",
       "      <td>19</td>\n",
       "      <td>118</td>\n",
       "      <td>7.21</td>\n",
       "      <td>7.18</td>\n",
       "      <td>3.4</td>\n",
       "      <td>2</td>\n",
       "      <td>3</td>\n",
       "      <td>2020</td>\n",
       "    </tr>\n",
       "    <tr>\n",
       "      <th>11</th>\n",
       "      <td>Matthew Stafford</td>\n",
       "      <td>DET</td>\n",
       "      <td>32</td>\n",
       "      <td>QB</td>\n",
       "      <td>16</td>\n",
       "      <td>16</td>\n",
       "      <td>5-11-0</td>\n",
       "      <td>339</td>\n",
       "      <td>528</td>\n",
       "      <td>64.2</td>\n",
       "      <td>...</td>\n",
       "      <td>96.3</td>\n",
       "      <td>68.4</td>\n",
       "      <td>38</td>\n",
       "      <td>254</td>\n",
       "      <td>6.77</td>\n",
       "      <td>6.89</td>\n",
       "      <td>6.7</td>\n",
       "      <td>3</td>\n",
       "      <td>4</td>\n",
       "      <td>2020</td>\n",
       "    </tr>\n",
       "    <tr>\n",
       "      <th>12</th>\n",
       "      <td>Aaron Rodgers *+</td>\n",
       "      <td>GNB</td>\n",
       "      <td>37</td>\n",
       "      <td>QB</td>\n",
       "      <td>16</td>\n",
       "      <td>16</td>\n",
       "      <td>13-3-0</td>\n",
       "      <td>372</td>\n",
       "      <td>526</td>\n",
       "      <td>70.7</td>\n",
       "      <td>...</td>\n",
       "      <td>121.5</td>\n",
       "      <td>84.3</td>\n",
       "      <td>20</td>\n",
       "      <td>182</td>\n",
       "      <td>7.54</td>\n",
       "      <td>8.89</td>\n",
       "      <td>3.7</td>\n",
       "      <td>1</td>\n",
       "      <td>2</td>\n",
       "      <td>2020</td>\n",
       "    </tr>\n",
       "    <tr>\n",
       "      <th>13</th>\n",
       "      <td>Derek Carr</td>\n",
       "      <td>LVR</td>\n",
       "      <td>29</td>\n",
       "      <td>QB</td>\n",
       "      <td>16</td>\n",
       "      <td>16</td>\n",
       "      <td>8-8-0</td>\n",
       "      <td>348</td>\n",
       "      <td>517</td>\n",
       "      <td>67.3</td>\n",
       "      <td>...</td>\n",
       "      <td>101.4</td>\n",
       "      <td>71.0</td>\n",
       "      <td>26</td>\n",
       "      <td>150</td>\n",
       "      <td>7.28</td>\n",
       "      <td>7.53</td>\n",
       "      <td>4.8</td>\n",
       "      <td>3</td>\n",
       "      <td>5</td>\n",
       "      <td>2020</td>\n",
       "    </tr>\n",
       "    <tr>\n",
       "      <th>14</th>\n",
       "      <td>Kirk Cousins</td>\n",
       "      <td>MIN</td>\n",
       "      <td>32</td>\n",
       "      <td>QB</td>\n",
       "      <td>16</td>\n",
       "      <td>16</td>\n",
       "      <td>7-9-0</td>\n",
       "      <td>349</td>\n",
       "      <td>516</td>\n",
       "      <td>67.6</td>\n",
       "      <td>...</td>\n",
       "      <td>105.0</td>\n",
       "      <td>63.2</td>\n",
       "      <td>39</td>\n",
       "      <td>256</td>\n",
       "      <td>7.22</td>\n",
       "      <td>7.43</td>\n",
       "      <td>7.0</td>\n",
       "      <td>1</td>\n",
       "      <td>3</td>\n",
       "      <td>2020</td>\n",
       "    </tr>\n",
       "    <tr>\n",
       "      <th>15</th>\n",
       "      <td>Teddy Bridgewater</td>\n",
       "      <td>CAR</td>\n",
       "      <td>28</td>\n",
       "      <td>QB</td>\n",
       "      <td>15</td>\n",
       "      <td>15</td>\n",
       "      <td>4-11-0</td>\n",
       "      <td>340</td>\n",
       "      <td>492</td>\n",
       "      <td>69.1</td>\n",
       "      <td>...</td>\n",
       "      <td>92.1</td>\n",
       "      <td>64.1</td>\n",
       "      <td>31</td>\n",
       "      <td>205</td>\n",
       "      <td>6.75</td>\n",
       "      <td>6.37</td>\n",
       "      <td>5.9</td>\n",
       "      <td></td>\n",
       "      <td></td>\n",
       "      <td>2020</td>\n",
       "    </tr>\n",
       "    <tr>\n",
       "      <th>16</th>\n",
       "      <td>Baker Mayfield</td>\n",
       "      <td>CLE</td>\n",
       "      <td>25</td>\n",
       "      <td>QB</td>\n",
       "      <td>16</td>\n",
       "      <td>16</td>\n",
       "      <td>11-5-0</td>\n",
       "      <td>305</td>\n",
       "      <td>486</td>\n",
       "      <td>62.8</td>\n",
       "      <td>...</td>\n",
       "      <td>95.9</td>\n",
       "      <td>72.2</td>\n",
       "      <td>26</td>\n",
       "      <td>162</td>\n",
       "      <td>6.64</td>\n",
       "      <td>6.96</td>\n",
       "      <td>5.1</td>\n",
       "      <td>2</td>\n",
       "      <td>2</td>\n",
       "      <td>2020</td>\n",
       "    </tr>\n",
       "    <tr>\n",
       "      <th>17</th>\n",
       "      <td>Ryan Tannehill</td>\n",
       "      <td>TEN</td>\n",
       "      <td>32</td>\n",
       "      <td>QB</td>\n",
       "      <td>16</td>\n",
       "      <td>16</td>\n",
       "      <td>11-5-0</td>\n",
       "      <td>315</td>\n",
       "      <td>481</td>\n",
       "      <td>65.5</td>\n",
       "      <td>...</td>\n",
       "      <td>106.5</td>\n",
       "      <td>78.3</td>\n",
       "      <td>24</td>\n",
       "      <td>173</td>\n",
       "      <td>7.22</td>\n",
       "      <td>7.90</td>\n",
       "      <td>4.8</td>\n",
       "      <td>5</td>\n",
       "      <td>6</td>\n",
       "      <td>2020</td>\n",
       "    </tr>\n",
       "    <tr>\n",
       "      <th>18</th>\n",
       "      <td>Daniel Jones</td>\n",
       "      <td>NYG</td>\n",
       "      <td>23</td>\n",
       "      <td>QB</td>\n",
       "      <td>14</td>\n",
       "      <td>14</td>\n",
       "      <td>5-9-0</td>\n",
       "      <td>280</td>\n",
       "      <td>448</td>\n",
       "      <td>62.5</td>\n",
       "      <td>...</td>\n",
       "      <td>80.4</td>\n",
       "      <td>61.4</td>\n",
       "      <td>45</td>\n",
       "      <td>286</td>\n",
       "      <td>5.39</td>\n",
       "      <td>4.92</td>\n",
       "      <td>9.1</td>\n",
       "      <td>0</td>\n",
       "      <td>0</td>\n",
       "      <td>2020</td>\n",
       "    </tr>\n",
       "    <tr>\n",
       "      <th>19</th>\n",
       "      <td>Drew Lock</td>\n",
       "      <td>DEN</td>\n",
       "      <td>24</td>\n",
       "      <td>QB</td>\n",
       "      <td>13</td>\n",
       "      <td>13</td>\n",
       "      <td>4-9-0</td>\n",
       "      <td>254</td>\n",
       "      <td>443</td>\n",
       "      <td>57.3</td>\n",
       "      <td>...</td>\n",
       "      <td>75.4</td>\n",
       "      <td>48.9</td>\n",
       "      <td>19</td>\n",
       "      <td>123</td>\n",
       "      <td>6.08</td>\n",
       "      <td>5.31</td>\n",
       "      <td>4.1</td>\n",
       "      <td>1</td>\n",
       "      <td>1</td>\n",
       "      <td>2020</td>\n",
       "    </tr>\n",
       "  </tbody>\n",
       "</table>\n",
       "<p>20 rows × 31 columns</p>\n",
       "</div>"
      ],
      "text/plain": [
       "                Player   Tm Age Pos   G  GS   QBrec  Cmp  Att  Cmp%  ...  \\\n",
       "0            Matt Ryan  ATL  35  QB  16  16  4-12-0  407  626  65.0  ...   \n",
       "1           Tom Brady   TAM  43  QB  16  16  11-5-0  401  610  65.7  ...   \n",
       "2   Ben Roethlisberger  PIT  38  QB  15  15  12-3-0  399  608  65.6  ...   \n",
       "3      Justin Herbert   LAC  22  QB  15  15   6-9-0  396  595  66.6  ...   \n",
       "4    Patrick Mahomes *  KAN  25  QB  15  15  14-1-0  390  588  66.3  ...   \n",
       "5         Josh Allen *  BUF  24  QB  16  16  13-3-0  396  572  69.2  ...   \n",
       "6       Kyler Murray *  ARI  23  QB  16  16   8-8-0  375  558  67.2  ...   \n",
       "7     Russell Wilson *  SEA  32  QB  16  16  12-4-0  384  558  68.8  ...   \n",
       "8           Jared Goff  LAR  26  QB  15  15   9-6-0  370  552  67.0  ...   \n",
       "9     Deshaun Watson *  HOU  25  QB  16  16  4-12-0  382  544  70.2  ...   \n",
       "10       Philip Rivers  IND  39  QB  16  16  11-5-0  369  543  68.0  ...   \n",
       "11    Matthew Stafford  DET  32  QB  16  16  5-11-0  339  528  64.2  ...   \n",
       "12    Aaron Rodgers *+  GNB  37  QB  16  16  13-3-0  372  526  70.7  ...   \n",
       "13         Derek Carr   LVR  29  QB  16  16   8-8-0  348  517  67.3  ...   \n",
       "14       Kirk Cousins   MIN  32  QB  16  16   7-9-0  349  516  67.6  ...   \n",
       "15   Teddy Bridgewater  CAR  28  QB  15  15  4-11-0  340  492  69.1  ...   \n",
       "16      Baker Mayfield  CLE  25  QB  16  16  11-5-0  305  486  62.8  ...   \n",
       "17      Ryan Tannehill  TEN  32  QB  16  16  11-5-0  315  481  65.5  ...   \n",
       "18       Daniel Jones   NYG  23  QB  14  14   5-9-0  280  448  62.5  ...   \n",
       "19           Drew Lock  DEN  24  QB  13  13   4-9-0  254  443  57.3  ...   \n",
       "\n",
       "     Rate   QBR  Sk Yds_Sack  NY/A ANY/A  Sk% 4QC GWD Season  \n",
       "0    93.3  66.9  41      257  6.48  6.52  6.1           2020  \n",
       "1   102.2  72.6  21      143  7.12  7.53  3.3   3   3   2020  \n",
       "2    94.1  60.1  13      118  5.93  6.27  2.1   4   4   2020  \n",
       "3    98.3  69.6  32      218  6.57  6.84  5.1   1   3   2020  \n",
       "4   108.2  82.9  22      147  7.53  8.33  3.6   3   3   2020  \n",
       "5   107.2  81.7  26      159  7.33  7.82  4.3   2   3   2020  \n",
       "6    94.3  68.9  27      176  6.49  6.45  4.6   3   4   2020  \n",
       "7   105.1  73.5  47      301  6.46  6.82  7.8   3   3   2020  \n",
       "8    90.0  58.4  23      161  6.59  6.27  4.0   0   1   2020  \n",
       "9   112.4  70.5  49      293  7.64  8.22  8.3           2020  \n",
       "10   97.0  62.5  19      118  7.21  7.18  3.4   2   3   2020  \n",
       "11   96.3  68.4  38      254  6.77  6.89  6.7   3   4   2020  \n",
       "12  121.5  84.3  20      182  7.54  8.89  3.7   1   2   2020  \n",
       "13  101.4  71.0  26      150  7.28  7.53  4.8   3   5   2020  \n",
       "14  105.0  63.2  39      256  7.22  7.43  7.0   1   3   2020  \n",
       "15   92.1  64.1  31      205  6.75  6.37  5.9           2020  \n",
       "16   95.9  72.2  26      162  6.64  6.96  5.1   2   2   2020  \n",
       "17  106.5  78.3  24      173  7.22  7.90  4.8   5   6   2020  \n",
       "18   80.4  61.4  45      286  5.39  4.92  9.1   0   0   2020  \n",
       "19   75.4  48.9  19      123  6.08  5.31  4.1   1   1   2020  \n",
       "\n",
       "[20 rows x 31 columns]"
      ]
     },
     "execution_count": 43,
     "metadata": {},
     "output_type": "execute_result"
    }
   ],
   "source": [
    "# URL of page\n",
    "season = 2020\n",
    "\n",
    "url = f'https://www.pro-football-reference.com/years/{season}/passing.htm'\n",
    "# Open URL and pass to BeautifulSoup\n",
    "html = urlopen(url)\n",
    "stats_page = BeautifulSoup(html)\n",
    "\n",
    "# Collect table headers\n",
    "column_headers = stats_page.findAll('tr')[0]\n",
    "column_headers = [i.getText() for i in column_headers.findAll('th')]\n",
    "\n",
    "# Collect table rows\n",
    "rows = stats_page.findAll('tr')[1:]\n",
    "\n",
    "# Get stats from each row\n",
    "qb_stats = []\n",
    "for i in range(len(rows)):\n",
    "    qb_stats.append([col.getText() for col in rows[i].findAll('td')])\n",
    "    \n",
    "# Create DataFrame from our scraped data\n",
    "data = pd.DataFrame(qb_stats, columns=column_headers[1:])\n",
    "data.head()\n",
    "data['Season'] = season\n",
    "\n",
    "# Rename sack yards column to `Yds_Sack`\n",
    "new_columns = data.columns.values\n",
    "new_columns[-7] = 'Yds_Sack'\n",
    "data.columns = new_columns\n",
    "\n",
    "data.head(20)"
   ]
  },
  {
   "cell_type": "code",
   "execution_count": 44,
   "metadata": {},
   "outputs": [],
   "source": [
    "player1 = 'Russell Wilson'\n",
    "player2 = 'Drew Lock'\n",
    "target_season = 2020"
   ]
  },
  {
   "cell_type": "code",
   "execution_count": 45,
   "metadata": {},
   "outputs": [
    {
     "name": "stderr",
     "output_type": "stream",
     "text": [
      "<ipython-input-45-3d481939b54e>:12: SettingWithCopyWarning:\n",
      "\n",
      "\n",
      "A value is trying to be set on a copy of a slice from a DataFrame.\n",
      "Try using .loc[row_indexer,col_indexer] = value instead\n",
      "\n",
      "See the caveats in the documentation: https://pandas.pydata.org/pandas-docs/stable/user_guide/indexing.html#returning-a-view-versus-a-copy\n",
      "\n",
      "<ipython-input-45-3d481939b54e>:15: SettingWithCopyWarning:\n",
      "\n",
      "\n",
      "A value is trying to be set on a copy of a slice from a DataFrame.\n",
      "Try using .loc[row_indexer,col_indexer] = value instead\n",
      "\n",
      "See the caveats in the documentation: https://pandas.pydata.org/pandas-docs/stable/user_guide/indexing.html#returning-a-view-versus-a-copy\n",
      "\n",
      "<ipython-input-45-3d481939b54e>:16: SettingWithCopyWarning:\n",
      "\n",
      "\n",
      "A value is trying to be set on a copy of a slice from a DataFrame.\n",
      "Try using .loc[row_indexer,col_indexer] = value instead\n",
      "\n",
      "See the caveats in the documentation: https://pandas.pydata.org/pandas-docs/stable/user_guide/indexing.html#returning-a-view-versus-a-copy\n",
      "\n",
      "<ipython-input-45-3d481939b54e>:17: SettingWithCopyWarning:\n",
      "\n",
      "\n",
      "A value is trying to be set on a copy of a slice from a DataFrame.\n",
      "Try using .loc[row_indexer,col_indexer] = value instead\n",
      "\n",
      "See the caveats in the documentation: https://pandas.pydata.org/pandas-docs/stable/user_guide/indexing.html#returning-a-view-versus-a-copy\n",
      "\n"
     ]
    },
    {
     "data": {
      "text/html": [
       "<div>\n",
       "<style scoped>\n",
       "    .dataframe tbody tr th:only-of-type {\n",
       "        vertical-align: middle;\n",
       "    }\n",
       "\n",
       "    .dataframe tbody tr th {\n",
       "        vertical-align: top;\n",
       "    }\n",
       "\n",
       "    .dataframe thead th {\n",
       "        text-align: right;\n",
       "    }\n",
       "</style>\n",
       "<table border=\"1\" class=\"dataframe\">\n",
       "  <thead>\n",
       "    <tr style=\"text-align: right;\">\n",
       "      <th></th>\n",
       "      <th>Player</th>\n",
       "      <th>Tm</th>\n",
       "      <th>Cmp%</th>\n",
       "      <th>Yds</th>\n",
       "      <th>TD</th>\n",
       "      <th>Int</th>\n",
       "      <th>Y/A</th>\n",
       "      <th>Rate</th>\n",
       "      <th>Cmp%_Rank</th>\n",
       "      <th>Yds_Rank</th>\n",
       "      <th>TD_Rank</th>\n",
       "      <th>Int_Rank</th>\n",
       "      <th>Y/A_Rank</th>\n",
       "      <th>Rate_Rank</th>\n",
       "    </tr>\n",
       "  </thead>\n",
       "  <tbody>\n",
       "    <tr>\n",
       "      <th>0</th>\n",
       "      <td>Matt Ryan</td>\n",
       "      <td>ATL</td>\n",
       "      <td>65.0</td>\n",
       "      <td>4581.0</td>\n",
       "      <td>26.0</td>\n",
       "      <td>11.0</td>\n",
       "      <td>7.3</td>\n",
       "      <td>93.3</td>\n",
       "      <td>0.342857</td>\n",
       "      <td>0.914286</td>\n",
       "      <td>0.628571</td>\n",
       "      <td>0.728571</td>\n",
       "      <td>0.500000</td>\n",
       "      <td>0.400000</td>\n",
       "    </tr>\n",
       "    <tr>\n",
       "      <th>1</th>\n",
       "      <td>Tom Brady</td>\n",
       "      <td>TAM</td>\n",
       "      <td>65.7</td>\n",
       "      <td>4633.0</td>\n",
       "      <td>40.0</td>\n",
       "      <td>12.0</td>\n",
       "      <td>7.6</td>\n",
       "      <td>102.2</td>\n",
       "      <td>0.457143</td>\n",
       "      <td>0.942857</td>\n",
       "      <td>0.957143</td>\n",
       "      <td>0.828571</td>\n",
       "      <td>0.671429</td>\n",
       "      <td>0.771429</td>\n",
       "    </tr>\n",
       "    <tr>\n",
       "      <th>2</th>\n",
       "      <td>Ben Roethlisberger</td>\n",
       "      <td>PIT</td>\n",
       "      <td>65.6</td>\n",
       "      <td>3803.0</td>\n",
       "      <td>33.0</td>\n",
       "      <td>10.0</td>\n",
       "      <td>6.3</td>\n",
       "      <td>94.1</td>\n",
       "      <td>0.428571</td>\n",
       "      <td>0.571429</td>\n",
       "      <td>0.800000</td>\n",
       "      <td>0.585714</td>\n",
       "      <td>0.142857</td>\n",
       "      <td>0.457143</td>\n",
       "    </tr>\n",
       "    <tr>\n",
       "      <th>3</th>\n",
       "      <td>Justin Herbert</td>\n",
       "      <td>LAC</td>\n",
       "      <td>66.6</td>\n",
       "      <td>4336.0</td>\n",
       "      <td>31.0</td>\n",
       "      <td>10.0</td>\n",
       "      <td>7.3</td>\n",
       "      <td>98.3</td>\n",
       "      <td>0.571429</td>\n",
       "      <td>0.857143</td>\n",
       "      <td>0.742857</td>\n",
       "      <td>0.585714</td>\n",
       "      <td>0.500000</td>\n",
       "      <td>0.657143</td>\n",
       "    </tr>\n",
       "    <tr>\n",
       "      <th>4</th>\n",
       "      <td>Patrick Mahomes</td>\n",
       "      <td>KAN</td>\n",
       "      <td>66.3</td>\n",
       "      <td>4740.0</td>\n",
       "      <td>38.0</td>\n",
       "      <td>6.0</td>\n",
       "      <td>8.1</td>\n",
       "      <td>108.2</td>\n",
       "      <td>0.542857</td>\n",
       "      <td>0.971429</td>\n",
       "      <td>0.914286</td>\n",
       "      <td>0.185714</td>\n",
       "      <td>0.885714</td>\n",
       "      <td>0.942857</td>\n",
       "    </tr>\n",
       "  </tbody>\n",
       "</table>\n",
       "</div>"
      ],
      "text/plain": [
       "               Player   Tm  Cmp%     Yds    TD   Int  Y/A   Rate  Cmp%_Rank  \\\n",
       "0           Matt Ryan  ATL  65.0  4581.0  26.0  11.0  7.3   93.3   0.342857   \n",
       "1           Tom Brady  TAM  65.7  4633.0  40.0  12.0  7.6  102.2   0.457143   \n",
       "2  Ben Roethlisberger  PIT  65.6  3803.0  33.0  10.0  6.3   94.1   0.428571   \n",
       "3      Justin Herbert  LAC  66.6  4336.0  31.0  10.0  7.3   98.3   0.571429   \n",
       "4     Patrick Mahomes  KAN  66.3  4740.0  38.0   6.0  8.1  108.2   0.542857   \n",
       "\n",
       "   Yds_Rank   TD_Rank  Int_Rank  Y/A_Rank  Rate_Rank  \n",
       "0  0.914286  0.628571  0.728571  0.500000   0.400000  \n",
       "1  0.942857  0.957143  0.828571  0.671429   0.771429  \n",
       "2  0.571429  0.800000  0.585714  0.142857   0.457143  \n",
       "3  0.857143  0.742857  0.585714  0.500000   0.657143  \n",
       "4  0.971429  0.914286  0.185714  0.885714   0.942857  "
      ]
     },
     "execution_count": 45,
     "metadata": {},
     "output_type": "execute_result"
    }
   ],
   "source": [
    "#filter by target season\n",
    "data_radar = data.loc[data['Season'] == target_season]\n",
    "\n",
    "# Select stat categories\n",
    "categories = ['Cmp%', 'Yds', 'TD', 'Int', 'Y/A', 'Rate']\n",
    "\n",
    "# Create data subset for radar chart\n",
    "data_radar = data[['Player', 'Tm'] + categories]\n",
    "\n",
    "# Convert data to numerical values\n",
    "for i in categories:\n",
    "    data_radar[i] = pd.to_numeric(data[i])\n",
    "    \n",
    "# Remove ornamental characters for achievements\n",
    "data_radar['Player'] = data_radar['Player'].str.replace('*', '')\n",
    "data_radar['Player'] = data_radar['Player'].str.replace('+', '')\n",
    "data_radar['Player'] = data_radar['Player'].str.strip()\n",
    "\n",
    "# Filter by passing yards\n",
    "data_radar = data_radar[data_radar['Yds'] > 1500]\n",
    "\n",
    "# Create columns with percentile rank\n",
    "for i in categories:\n",
    "    data_radar[i + '_Rank'] = data_radar[i].rank(pct=True)\n",
    "\n",
    "# We need to flip the rank for interceptions\n",
    "#data_radar['Int_Rank'] = 1 - data_radar['Int_Rank']\n",
    "\n",
    "# Examine data\n",
    "data_radar.head()\n",
    "\n"
   ]
  },
  {
   "cell_type": "code",
   "execution_count": 46,
   "metadata": {},
   "outputs": [
    {
     "name": "stdout",
     "output_type": "stream",
     "text": [
      "[[0.85714286 0.77142857 0.95714286 0.91428571 0.6        0.82857143]]\n",
      "[[0.02857143 0.42857143 0.41428571 0.98571429 0.24285714 0.08571429]]\n"
     ]
    }
   ],
   "source": [
    "list1 = data_radar.loc[data_radar['Player'] == player1, ['Cmp%_Rank','Yds_Rank','TD_Rank','Int_Rank','Y/A_Rank','Rate_Rank']].values\n",
    "print(list1)\n",
    "\n",
    "list2 = data_radar.loc[data_radar['Player'] == player2, ['Cmp%_Rank','Yds_Rank','TD_Rank','Int_Rank','Y/A_Rank','Rate_Rank']].values\n",
    "print(list2)"
   ]
  },
  {
   "cell_type": "code",
   "execution_count": 47,
   "metadata": {},
   "outputs": [
    {
     "data": {
      "application/vnd.plotly.v1+json": {
       "config": {
        "plotlyServerURL": "https://plot.ly"
       },
       "data": [
        {
         "fill": "toself",
         "name": "Russell Wilson",
         "r": [
          0.8571428571428571,
          0.7714285714285715,
          0.9571428571428572,
          0.9142857142857143,
          0.6,
          0.8285714285714286
         ],
         "theta": [
          "Cmp%",
          "Yds",
          "TD",
          "Int",
          "Y/A",
          "Rate"
         ],
         "type": "scatterpolar"
        },
        {
         "fill": "toself",
         "name": "Drew Lock",
         "r": [
          0.02857142857142857,
          0.42857142857142855,
          0.4142857142857143,
          0.9857142857142858,
          0.24285714285714285,
          0.08571428571428572
         ],
         "theta": [
          "Cmp%",
          "Yds",
          "TD",
          "Int",
          "Y/A",
          "Rate"
         ],
         "type": "scatterpolar"
        }
       ],
       "layout": {
        "polar": {
         "radialaxis": {
          "range": [
           0,
           1
          ],
          "visible": false
         }
        },
        "showlegend": true,
        "template": {
         "data": {
          "bar": [
           {
            "error_x": {
             "color": "#2a3f5f"
            },
            "error_y": {
             "color": "#2a3f5f"
            },
            "marker": {
             "line": {
              "color": "#E5ECF6",
              "width": 0.5
             }
            },
            "type": "bar"
           }
          ],
          "barpolar": [
           {
            "marker": {
             "line": {
              "color": "#E5ECF6",
              "width": 0.5
             }
            },
            "type": "barpolar"
           }
          ],
          "carpet": [
           {
            "aaxis": {
             "endlinecolor": "#2a3f5f",
             "gridcolor": "white",
             "linecolor": "white",
             "minorgridcolor": "white",
             "startlinecolor": "#2a3f5f"
            },
            "baxis": {
             "endlinecolor": "#2a3f5f",
             "gridcolor": "white",
             "linecolor": "white",
             "minorgridcolor": "white",
             "startlinecolor": "#2a3f5f"
            },
            "type": "carpet"
           }
          ],
          "choropleth": [
           {
            "colorbar": {
             "outlinewidth": 0,
             "ticks": ""
            },
            "type": "choropleth"
           }
          ],
          "contour": [
           {
            "colorbar": {
             "outlinewidth": 0,
             "ticks": ""
            },
            "colorscale": [
             [
              0,
              "#0d0887"
             ],
             [
              0.1111111111111111,
              "#46039f"
             ],
             [
              0.2222222222222222,
              "#7201a8"
             ],
             [
              0.3333333333333333,
              "#9c179e"
             ],
             [
              0.4444444444444444,
              "#bd3786"
             ],
             [
              0.5555555555555556,
              "#d8576b"
             ],
             [
              0.6666666666666666,
              "#ed7953"
             ],
             [
              0.7777777777777778,
              "#fb9f3a"
             ],
             [
              0.8888888888888888,
              "#fdca26"
             ],
             [
              1,
              "#f0f921"
             ]
            ],
            "type": "contour"
           }
          ],
          "contourcarpet": [
           {
            "colorbar": {
             "outlinewidth": 0,
             "ticks": ""
            },
            "type": "contourcarpet"
           }
          ],
          "heatmap": [
           {
            "colorbar": {
             "outlinewidth": 0,
             "ticks": ""
            },
            "colorscale": [
             [
              0,
              "#0d0887"
             ],
             [
              0.1111111111111111,
              "#46039f"
             ],
             [
              0.2222222222222222,
              "#7201a8"
             ],
             [
              0.3333333333333333,
              "#9c179e"
             ],
             [
              0.4444444444444444,
              "#bd3786"
             ],
             [
              0.5555555555555556,
              "#d8576b"
             ],
             [
              0.6666666666666666,
              "#ed7953"
             ],
             [
              0.7777777777777778,
              "#fb9f3a"
             ],
             [
              0.8888888888888888,
              "#fdca26"
             ],
             [
              1,
              "#f0f921"
             ]
            ],
            "type": "heatmap"
           }
          ],
          "heatmapgl": [
           {
            "colorbar": {
             "outlinewidth": 0,
             "ticks": ""
            },
            "colorscale": [
             [
              0,
              "#0d0887"
             ],
             [
              0.1111111111111111,
              "#46039f"
             ],
             [
              0.2222222222222222,
              "#7201a8"
             ],
             [
              0.3333333333333333,
              "#9c179e"
             ],
             [
              0.4444444444444444,
              "#bd3786"
             ],
             [
              0.5555555555555556,
              "#d8576b"
             ],
             [
              0.6666666666666666,
              "#ed7953"
             ],
             [
              0.7777777777777778,
              "#fb9f3a"
             ],
             [
              0.8888888888888888,
              "#fdca26"
             ],
             [
              1,
              "#f0f921"
             ]
            ],
            "type": "heatmapgl"
           }
          ],
          "histogram": [
           {
            "marker": {
             "colorbar": {
              "outlinewidth": 0,
              "ticks": ""
             }
            },
            "type": "histogram"
           }
          ],
          "histogram2d": [
           {
            "colorbar": {
             "outlinewidth": 0,
             "ticks": ""
            },
            "colorscale": [
             [
              0,
              "#0d0887"
             ],
             [
              0.1111111111111111,
              "#46039f"
             ],
             [
              0.2222222222222222,
              "#7201a8"
             ],
             [
              0.3333333333333333,
              "#9c179e"
             ],
             [
              0.4444444444444444,
              "#bd3786"
             ],
             [
              0.5555555555555556,
              "#d8576b"
             ],
             [
              0.6666666666666666,
              "#ed7953"
             ],
             [
              0.7777777777777778,
              "#fb9f3a"
             ],
             [
              0.8888888888888888,
              "#fdca26"
             ],
             [
              1,
              "#f0f921"
             ]
            ],
            "type": "histogram2d"
           }
          ],
          "histogram2dcontour": [
           {
            "colorbar": {
             "outlinewidth": 0,
             "ticks": ""
            },
            "colorscale": [
             [
              0,
              "#0d0887"
             ],
             [
              0.1111111111111111,
              "#46039f"
             ],
             [
              0.2222222222222222,
              "#7201a8"
             ],
             [
              0.3333333333333333,
              "#9c179e"
             ],
             [
              0.4444444444444444,
              "#bd3786"
             ],
             [
              0.5555555555555556,
              "#d8576b"
             ],
             [
              0.6666666666666666,
              "#ed7953"
             ],
             [
              0.7777777777777778,
              "#fb9f3a"
             ],
             [
              0.8888888888888888,
              "#fdca26"
             ],
             [
              1,
              "#f0f921"
             ]
            ],
            "type": "histogram2dcontour"
           }
          ],
          "mesh3d": [
           {
            "colorbar": {
             "outlinewidth": 0,
             "ticks": ""
            },
            "type": "mesh3d"
           }
          ],
          "parcoords": [
           {
            "line": {
             "colorbar": {
              "outlinewidth": 0,
              "ticks": ""
             }
            },
            "type": "parcoords"
           }
          ],
          "pie": [
           {
            "automargin": true,
            "type": "pie"
           }
          ],
          "scatter": [
           {
            "marker": {
             "colorbar": {
              "outlinewidth": 0,
              "ticks": ""
             }
            },
            "type": "scatter"
           }
          ],
          "scatter3d": [
           {
            "line": {
             "colorbar": {
              "outlinewidth": 0,
              "ticks": ""
             }
            },
            "marker": {
             "colorbar": {
              "outlinewidth": 0,
              "ticks": ""
             }
            },
            "type": "scatter3d"
           }
          ],
          "scattercarpet": [
           {
            "marker": {
             "colorbar": {
              "outlinewidth": 0,
              "ticks": ""
             }
            },
            "type": "scattercarpet"
           }
          ],
          "scattergeo": [
           {
            "marker": {
             "colorbar": {
              "outlinewidth": 0,
              "ticks": ""
             }
            },
            "type": "scattergeo"
           }
          ],
          "scattergl": [
           {
            "marker": {
             "colorbar": {
              "outlinewidth": 0,
              "ticks": ""
             }
            },
            "type": "scattergl"
           }
          ],
          "scattermapbox": [
           {
            "marker": {
             "colorbar": {
              "outlinewidth": 0,
              "ticks": ""
             }
            },
            "type": "scattermapbox"
           }
          ],
          "scatterpolar": [
           {
            "marker": {
             "colorbar": {
              "outlinewidth": 0,
              "ticks": ""
             }
            },
            "type": "scatterpolar"
           }
          ],
          "scatterpolargl": [
           {
            "marker": {
             "colorbar": {
              "outlinewidth": 0,
              "ticks": ""
             }
            },
            "type": "scatterpolargl"
           }
          ],
          "scatterternary": [
           {
            "marker": {
             "colorbar": {
              "outlinewidth": 0,
              "ticks": ""
             }
            },
            "type": "scatterternary"
           }
          ],
          "surface": [
           {
            "colorbar": {
             "outlinewidth": 0,
             "ticks": ""
            },
            "colorscale": [
             [
              0,
              "#0d0887"
             ],
             [
              0.1111111111111111,
              "#46039f"
             ],
             [
              0.2222222222222222,
              "#7201a8"
             ],
             [
              0.3333333333333333,
              "#9c179e"
             ],
             [
              0.4444444444444444,
              "#bd3786"
             ],
             [
              0.5555555555555556,
              "#d8576b"
             ],
             [
              0.6666666666666666,
              "#ed7953"
             ],
             [
              0.7777777777777778,
              "#fb9f3a"
             ],
             [
              0.8888888888888888,
              "#fdca26"
             ],
             [
              1,
              "#f0f921"
             ]
            ],
            "type": "surface"
           }
          ],
          "table": [
           {
            "cells": {
             "fill": {
              "color": "#EBF0F8"
             },
             "line": {
              "color": "white"
             }
            },
            "header": {
             "fill": {
              "color": "#C8D4E3"
             },
             "line": {
              "color": "white"
             }
            },
            "type": "table"
           }
          ]
         },
         "layout": {
          "annotationdefaults": {
           "arrowcolor": "#2a3f5f",
           "arrowhead": 0,
           "arrowwidth": 1
          },
          "autotypenumbers": "strict",
          "coloraxis": {
           "colorbar": {
            "outlinewidth": 0,
            "ticks": ""
           }
          },
          "colorscale": {
           "diverging": [
            [
             0,
             "#8e0152"
            ],
            [
             0.1,
             "#c51b7d"
            ],
            [
             0.2,
             "#de77ae"
            ],
            [
             0.3,
             "#f1b6da"
            ],
            [
             0.4,
             "#fde0ef"
            ],
            [
             0.5,
             "#f7f7f7"
            ],
            [
             0.6,
             "#e6f5d0"
            ],
            [
             0.7,
             "#b8e186"
            ],
            [
             0.8,
             "#7fbc41"
            ],
            [
             0.9,
             "#4d9221"
            ],
            [
             1,
             "#276419"
            ]
           ],
           "sequential": [
            [
             0,
             "#0d0887"
            ],
            [
             0.1111111111111111,
             "#46039f"
            ],
            [
             0.2222222222222222,
             "#7201a8"
            ],
            [
             0.3333333333333333,
             "#9c179e"
            ],
            [
             0.4444444444444444,
             "#bd3786"
            ],
            [
             0.5555555555555556,
             "#d8576b"
            ],
            [
             0.6666666666666666,
             "#ed7953"
            ],
            [
             0.7777777777777778,
             "#fb9f3a"
            ],
            [
             0.8888888888888888,
             "#fdca26"
            ],
            [
             1,
             "#f0f921"
            ]
           ],
           "sequentialminus": [
            [
             0,
             "#0d0887"
            ],
            [
             0.1111111111111111,
             "#46039f"
            ],
            [
             0.2222222222222222,
             "#7201a8"
            ],
            [
             0.3333333333333333,
             "#9c179e"
            ],
            [
             0.4444444444444444,
             "#bd3786"
            ],
            [
             0.5555555555555556,
             "#d8576b"
            ],
            [
             0.6666666666666666,
             "#ed7953"
            ],
            [
             0.7777777777777778,
             "#fb9f3a"
            ],
            [
             0.8888888888888888,
             "#fdca26"
            ],
            [
             1,
             "#f0f921"
            ]
           ]
          },
          "colorway": [
           "#636efa",
           "#EF553B",
           "#00cc96",
           "#ab63fa",
           "#FFA15A",
           "#19d3f3",
           "#FF6692",
           "#B6E880",
           "#FF97FF",
           "#FECB52"
          ],
          "font": {
           "color": "#2a3f5f"
          },
          "geo": {
           "bgcolor": "white",
           "lakecolor": "white",
           "landcolor": "#E5ECF6",
           "showlakes": true,
           "showland": true,
           "subunitcolor": "white"
          },
          "hoverlabel": {
           "align": "left"
          },
          "hovermode": "closest",
          "mapbox": {
           "style": "light"
          },
          "paper_bgcolor": "white",
          "plot_bgcolor": "#E5ECF6",
          "polar": {
           "angularaxis": {
            "gridcolor": "white",
            "linecolor": "white",
            "ticks": ""
           },
           "bgcolor": "#E5ECF6",
           "radialaxis": {
            "gridcolor": "white",
            "linecolor": "white",
            "ticks": ""
           }
          },
          "scene": {
           "xaxis": {
            "backgroundcolor": "#E5ECF6",
            "gridcolor": "white",
            "gridwidth": 2,
            "linecolor": "white",
            "showbackground": true,
            "ticks": "",
            "zerolinecolor": "white"
           },
           "yaxis": {
            "backgroundcolor": "#E5ECF6",
            "gridcolor": "white",
            "gridwidth": 2,
            "linecolor": "white",
            "showbackground": true,
            "ticks": "",
            "zerolinecolor": "white"
           },
           "zaxis": {
            "backgroundcolor": "#E5ECF6",
            "gridcolor": "white",
            "gridwidth": 2,
            "linecolor": "white",
            "showbackground": true,
            "ticks": "",
            "zerolinecolor": "white"
           }
          },
          "shapedefaults": {
           "line": {
            "color": "#2a3f5f"
           }
          },
          "ternary": {
           "aaxis": {
            "gridcolor": "white",
            "linecolor": "white",
            "ticks": ""
           },
           "baxis": {
            "gridcolor": "white",
            "linecolor": "white",
            "ticks": ""
           },
           "bgcolor": "#E5ECF6",
           "caxis": {
            "gridcolor": "white",
            "linecolor": "white",
            "ticks": ""
           }
          },
          "title": {
           "x": 0.05
          },
          "xaxis": {
           "automargin": true,
           "gridcolor": "white",
           "linecolor": "white",
           "ticks": "",
           "title": {
            "standoff": 15
           },
           "zerolinecolor": "white",
           "zerolinewidth": 2
          },
          "yaxis": {
           "automargin": true,
           "gridcolor": "white",
           "linecolor": "white",
           "ticks": "",
           "title": {
            "standoff": 15
           },
           "zerolinecolor": "white",
           "zerolinewidth": 2
          }
         }
        }
       }
      },
      "text/html": [
       "<div>                            <div id=\"75f33492-2c73-4f90-b3b2-f7b6772b86fe\" class=\"plotly-graph-div\" style=\"height:525px; width:100%;\"></div>            <script type=\"text/javascript\">                require([\"plotly\"], function(Plotly) {                    window.PLOTLYENV=window.PLOTLYENV || {};                                    if (document.getElementById(\"75f33492-2c73-4f90-b3b2-f7b6772b86fe\")) {                    Plotly.newPlot(                        \"75f33492-2c73-4f90-b3b2-f7b6772b86fe\",                        [{\"fill\": \"toself\", \"name\": \"Russell Wilson\", \"r\": [0.8571428571428571, 0.7714285714285715, 0.9571428571428572, 0.9142857142857143, 0.6, 0.8285714285714286], \"theta\": [\"Cmp%\", \"Yds\", \"TD\", \"Int\", \"Y/A\", \"Rate\"], \"type\": \"scatterpolar\"}, {\"fill\": \"toself\", \"name\": \"Drew Lock\", \"r\": [0.02857142857142857, 0.42857142857142855, 0.4142857142857143, 0.9857142857142858, 0.24285714285714285, 0.08571428571428572], \"theta\": [\"Cmp%\", \"Yds\", \"TD\", \"Int\", \"Y/A\", \"Rate\"], \"type\": \"scatterpolar\"}],                        {\"polar\": {\"radialaxis\": {\"range\": [0, 1], \"visible\": false}}, \"showlegend\": true, \"template\": {\"data\": {\"bar\": [{\"error_x\": {\"color\": \"#2a3f5f\"}, \"error_y\": {\"color\": \"#2a3f5f\"}, \"marker\": {\"line\": {\"color\": \"#E5ECF6\", \"width\": 0.5}}, \"type\": \"bar\"}], \"barpolar\": [{\"marker\": {\"line\": {\"color\": \"#E5ECF6\", \"width\": 0.5}}, \"type\": \"barpolar\"}], \"carpet\": [{\"aaxis\": {\"endlinecolor\": \"#2a3f5f\", \"gridcolor\": \"white\", \"linecolor\": \"white\", \"minorgridcolor\": \"white\", \"startlinecolor\": \"#2a3f5f\"}, \"baxis\": {\"endlinecolor\": \"#2a3f5f\", \"gridcolor\": \"white\", \"linecolor\": \"white\", \"minorgridcolor\": \"white\", \"startlinecolor\": \"#2a3f5f\"}, \"type\": \"carpet\"}], \"choropleth\": [{\"colorbar\": {\"outlinewidth\": 0, \"ticks\": \"\"}, \"type\": \"choropleth\"}], \"contour\": [{\"colorbar\": {\"outlinewidth\": 0, \"ticks\": \"\"}, \"colorscale\": [[0.0, \"#0d0887\"], [0.1111111111111111, \"#46039f\"], [0.2222222222222222, \"#7201a8\"], [0.3333333333333333, \"#9c179e\"], [0.4444444444444444, \"#bd3786\"], [0.5555555555555556, \"#d8576b\"], [0.6666666666666666, \"#ed7953\"], [0.7777777777777778, \"#fb9f3a\"], [0.8888888888888888, \"#fdca26\"], [1.0, \"#f0f921\"]], \"type\": \"contour\"}], \"contourcarpet\": [{\"colorbar\": {\"outlinewidth\": 0, \"ticks\": \"\"}, \"type\": \"contourcarpet\"}], \"heatmap\": [{\"colorbar\": {\"outlinewidth\": 0, \"ticks\": \"\"}, \"colorscale\": [[0.0, \"#0d0887\"], [0.1111111111111111, \"#46039f\"], [0.2222222222222222, \"#7201a8\"], [0.3333333333333333, \"#9c179e\"], [0.4444444444444444, \"#bd3786\"], [0.5555555555555556, \"#d8576b\"], [0.6666666666666666, \"#ed7953\"], [0.7777777777777778, \"#fb9f3a\"], [0.8888888888888888, \"#fdca26\"], [1.0, \"#f0f921\"]], \"type\": \"heatmap\"}], \"heatmapgl\": [{\"colorbar\": {\"outlinewidth\": 0, \"ticks\": \"\"}, \"colorscale\": [[0.0, \"#0d0887\"], [0.1111111111111111, \"#46039f\"], [0.2222222222222222, \"#7201a8\"], [0.3333333333333333, \"#9c179e\"], [0.4444444444444444, \"#bd3786\"], [0.5555555555555556, \"#d8576b\"], [0.6666666666666666, \"#ed7953\"], [0.7777777777777778, \"#fb9f3a\"], [0.8888888888888888, \"#fdca26\"], [1.0, \"#f0f921\"]], \"type\": \"heatmapgl\"}], \"histogram\": [{\"marker\": {\"colorbar\": {\"outlinewidth\": 0, \"ticks\": \"\"}}, \"type\": \"histogram\"}], \"histogram2d\": [{\"colorbar\": {\"outlinewidth\": 0, \"ticks\": \"\"}, \"colorscale\": [[0.0, \"#0d0887\"], [0.1111111111111111, \"#46039f\"], [0.2222222222222222, \"#7201a8\"], [0.3333333333333333, \"#9c179e\"], [0.4444444444444444, \"#bd3786\"], [0.5555555555555556, \"#d8576b\"], [0.6666666666666666, \"#ed7953\"], [0.7777777777777778, \"#fb9f3a\"], [0.8888888888888888, \"#fdca26\"], [1.0, \"#f0f921\"]], \"type\": \"histogram2d\"}], \"histogram2dcontour\": [{\"colorbar\": {\"outlinewidth\": 0, \"ticks\": \"\"}, \"colorscale\": [[0.0, \"#0d0887\"], [0.1111111111111111, \"#46039f\"], [0.2222222222222222, \"#7201a8\"], [0.3333333333333333, \"#9c179e\"], [0.4444444444444444, \"#bd3786\"], [0.5555555555555556, \"#d8576b\"], [0.6666666666666666, \"#ed7953\"], [0.7777777777777778, \"#fb9f3a\"], [0.8888888888888888, \"#fdca26\"], [1.0, \"#f0f921\"]], \"type\": \"histogram2dcontour\"}], \"mesh3d\": [{\"colorbar\": {\"outlinewidth\": 0, \"ticks\": \"\"}, \"type\": \"mesh3d\"}], \"parcoords\": [{\"line\": {\"colorbar\": {\"outlinewidth\": 0, \"ticks\": \"\"}}, \"type\": \"parcoords\"}], \"pie\": [{\"automargin\": true, \"type\": \"pie\"}], \"scatter\": [{\"marker\": {\"colorbar\": {\"outlinewidth\": 0, \"ticks\": \"\"}}, \"type\": \"scatter\"}], \"scatter3d\": [{\"line\": {\"colorbar\": {\"outlinewidth\": 0, \"ticks\": \"\"}}, \"marker\": {\"colorbar\": {\"outlinewidth\": 0, \"ticks\": \"\"}}, \"type\": \"scatter3d\"}], \"scattercarpet\": [{\"marker\": {\"colorbar\": {\"outlinewidth\": 0, \"ticks\": \"\"}}, \"type\": \"scattercarpet\"}], \"scattergeo\": [{\"marker\": {\"colorbar\": {\"outlinewidth\": 0, \"ticks\": \"\"}}, \"type\": \"scattergeo\"}], \"scattergl\": [{\"marker\": {\"colorbar\": {\"outlinewidth\": 0, \"ticks\": \"\"}}, \"type\": \"scattergl\"}], \"scattermapbox\": [{\"marker\": {\"colorbar\": {\"outlinewidth\": 0, \"ticks\": \"\"}}, \"type\": \"scattermapbox\"}], \"scatterpolar\": [{\"marker\": {\"colorbar\": {\"outlinewidth\": 0, \"ticks\": \"\"}}, \"type\": \"scatterpolar\"}], \"scatterpolargl\": [{\"marker\": {\"colorbar\": {\"outlinewidth\": 0, \"ticks\": \"\"}}, \"type\": \"scatterpolargl\"}], \"scatterternary\": [{\"marker\": {\"colorbar\": {\"outlinewidth\": 0, \"ticks\": \"\"}}, \"type\": \"scatterternary\"}], \"surface\": [{\"colorbar\": {\"outlinewidth\": 0, \"ticks\": \"\"}, \"colorscale\": [[0.0, \"#0d0887\"], [0.1111111111111111, \"#46039f\"], [0.2222222222222222, \"#7201a8\"], [0.3333333333333333, \"#9c179e\"], [0.4444444444444444, \"#bd3786\"], [0.5555555555555556, \"#d8576b\"], [0.6666666666666666, \"#ed7953\"], [0.7777777777777778, \"#fb9f3a\"], [0.8888888888888888, \"#fdca26\"], [1.0, \"#f0f921\"]], \"type\": \"surface\"}], \"table\": [{\"cells\": {\"fill\": {\"color\": \"#EBF0F8\"}, \"line\": {\"color\": \"white\"}}, \"header\": {\"fill\": {\"color\": \"#C8D4E3\"}, \"line\": {\"color\": \"white\"}}, \"type\": \"table\"}]}, \"layout\": {\"annotationdefaults\": {\"arrowcolor\": \"#2a3f5f\", \"arrowhead\": 0, \"arrowwidth\": 1}, \"autotypenumbers\": \"strict\", \"coloraxis\": {\"colorbar\": {\"outlinewidth\": 0, \"ticks\": \"\"}}, \"colorscale\": {\"diverging\": [[0, \"#8e0152\"], [0.1, \"#c51b7d\"], [0.2, \"#de77ae\"], [0.3, \"#f1b6da\"], [0.4, \"#fde0ef\"], [0.5, \"#f7f7f7\"], [0.6, \"#e6f5d0\"], [0.7, \"#b8e186\"], [0.8, \"#7fbc41\"], [0.9, \"#4d9221\"], [1, \"#276419\"]], \"sequential\": [[0.0, \"#0d0887\"], [0.1111111111111111, \"#46039f\"], [0.2222222222222222, \"#7201a8\"], [0.3333333333333333, \"#9c179e\"], [0.4444444444444444, \"#bd3786\"], [0.5555555555555556, \"#d8576b\"], [0.6666666666666666, \"#ed7953\"], [0.7777777777777778, \"#fb9f3a\"], [0.8888888888888888, \"#fdca26\"], [1.0, \"#f0f921\"]], \"sequentialminus\": [[0.0, \"#0d0887\"], [0.1111111111111111, \"#46039f\"], [0.2222222222222222, \"#7201a8\"], [0.3333333333333333, \"#9c179e\"], [0.4444444444444444, \"#bd3786\"], [0.5555555555555556, \"#d8576b\"], [0.6666666666666666, \"#ed7953\"], [0.7777777777777778, \"#fb9f3a\"], [0.8888888888888888, \"#fdca26\"], [1.0, \"#f0f921\"]]}, \"colorway\": [\"#636efa\", \"#EF553B\", \"#00cc96\", \"#ab63fa\", \"#FFA15A\", \"#19d3f3\", \"#FF6692\", \"#B6E880\", \"#FF97FF\", \"#FECB52\"], \"font\": {\"color\": \"#2a3f5f\"}, \"geo\": {\"bgcolor\": \"white\", \"lakecolor\": \"white\", \"landcolor\": \"#E5ECF6\", \"showlakes\": true, \"showland\": true, \"subunitcolor\": \"white\"}, \"hoverlabel\": {\"align\": \"left\"}, \"hovermode\": \"closest\", \"mapbox\": {\"style\": \"light\"}, \"paper_bgcolor\": \"white\", \"plot_bgcolor\": \"#E5ECF6\", \"polar\": {\"angularaxis\": {\"gridcolor\": \"white\", \"linecolor\": \"white\", \"ticks\": \"\"}, \"bgcolor\": \"#E5ECF6\", \"radialaxis\": {\"gridcolor\": \"white\", \"linecolor\": \"white\", \"ticks\": \"\"}}, \"scene\": {\"xaxis\": {\"backgroundcolor\": \"#E5ECF6\", \"gridcolor\": \"white\", \"gridwidth\": 2, \"linecolor\": \"white\", \"showbackground\": true, \"ticks\": \"\", \"zerolinecolor\": \"white\"}, \"yaxis\": {\"backgroundcolor\": \"#E5ECF6\", \"gridcolor\": \"white\", \"gridwidth\": 2, \"linecolor\": \"white\", \"showbackground\": true, \"ticks\": \"\", \"zerolinecolor\": \"white\"}, \"zaxis\": {\"backgroundcolor\": \"#E5ECF6\", \"gridcolor\": \"white\", \"gridwidth\": 2, \"linecolor\": \"white\", \"showbackground\": true, \"ticks\": \"\", \"zerolinecolor\": \"white\"}}, \"shapedefaults\": {\"line\": {\"color\": \"#2a3f5f\"}}, \"ternary\": {\"aaxis\": {\"gridcolor\": \"white\", \"linecolor\": \"white\", \"ticks\": \"\"}, \"baxis\": {\"gridcolor\": \"white\", \"linecolor\": \"white\", \"ticks\": \"\"}, \"bgcolor\": \"#E5ECF6\", \"caxis\": {\"gridcolor\": \"white\", \"linecolor\": \"white\", \"ticks\": \"\"}}, \"title\": {\"x\": 0.05}, \"xaxis\": {\"automargin\": true, \"gridcolor\": \"white\", \"linecolor\": \"white\", \"ticks\": \"\", \"title\": {\"standoff\": 15}, \"zerolinecolor\": \"white\", \"zerolinewidth\": 2}, \"yaxis\": {\"automargin\": true, \"gridcolor\": \"white\", \"linecolor\": \"white\", \"ticks\": \"\", \"title\": {\"standoff\": 15}, \"zerolinecolor\": \"white\", \"zerolinewidth\": 2}}}},                        {\"responsive\": true}                    ).then(function(){\n",
       "                            \n",
       "var gd = document.getElementById('75f33492-2c73-4f90-b3b2-f7b6772b86fe');\n",
       "var x = new MutationObserver(function (mutations, observer) {{\n",
       "        var display = window.getComputedStyle(gd).display;\n",
       "        if (!display || display === 'none') {{\n",
       "            console.log([gd, 'removed!']);\n",
       "            Plotly.purge(gd);\n",
       "            observer.disconnect();\n",
       "        }}\n",
       "}});\n",
       "\n",
       "// Listen for the removal of the full notebook cells\n",
       "var notebookContainer = gd.closest('#notebook-container');\n",
       "if (notebookContainer) {{\n",
       "    x.observe(notebookContainer, {childList: true});\n",
       "}}\n",
       "\n",
       "// Listen for the clearing of the current output cell\n",
       "var outputEl = gd.closest('.output');\n",
       "if (outputEl) {{\n",
       "    x.observe(outputEl, {childList: true});\n",
       "}}\n",
       "\n",
       "                        })                };                });            </script>        </div>"
      ]
     },
     "metadata": {},
     "output_type": "display_data"
    }
   ],
   "source": [
    "#plot\n",
    "fig = go.Figure()\n",
    "\n",
    "fig.add_trace(go.Scatterpolar(\n",
    "      r=list1[0],\n",
    "      theta=categories,\n",
    "      fill='toself',\n",
    "      name=player1\n",
    "))\n",
    "fig.add_trace(go.Scatterpolar(\n",
    "      r=list2[0],\n",
    "      theta=categories,\n",
    "      fill='toself',\n",
    "      name=player2\n",
    "))\n",
    "\n",
    "fig.update_layout(\n",
    "  polar=dict(\n",
    "    radialaxis=dict(\n",
    "      visible=False,\n",
    "      range=[0, 1]\n",
    "    )),\n",
    "  showlegend=True\n",
    ")\n",
    "\n",
    "fig.show()"
   ]
  },
  {
   "cell_type": "code",
   "execution_count": null,
   "metadata": {},
   "outputs": [],
   "source": []
  },
  {
   "cell_type": "code",
   "execution_count": null,
   "metadata": {},
   "outputs": [],
   "source": []
  },
  {
   "cell_type": "code",
   "execution_count": null,
   "metadata": {},
   "outputs": [],
   "source": []
  },
  {
   "cell_type": "code",
   "execution_count": null,
   "metadata": {},
   "outputs": [],
   "source": []
  },
  {
   "cell_type": "code",
   "execution_count": null,
   "metadata": {},
   "outputs": [],
   "source": []
  },
  {
   "cell_type": "code",
   "execution_count": null,
   "metadata": {},
   "outputs": [],
   "source": []
  }
 ],
 "metadata": {
  "kernelspec": {
   "display_name": "Python 3",
   "language": "python",
   "name": "python3"
  },
  "language_info": {
   "codemirror_mode": {
    "name": "ipython",
    "version": 3
   },
   "file_extension": ".py",
   "mimetype": "text/x-python",
   "name": "python",
   "nbconvert_exporter": "python",
   "pygments_lexer": "ipython3",
   "version": "3.8.3"
  }
 },
 "nbformat": 4,
 "nbformat_minor": 4
}
