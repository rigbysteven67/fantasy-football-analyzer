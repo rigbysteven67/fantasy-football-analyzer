{
 "cells": [
  {
   "cell_type": "code",
   "execution_count": 2,
   "metadata": {},
   "outputs": [],
   "source": [
    "import pandas as pd\n",
    "from sklearn.model_selection import train_test_split \n",
    "from sklearn.linear_model import LinearRegression\n",
    "from matplotlib import pyplot as plt\n",
    "import warnings\n",
    "import seaborn as sns\n",
    "import numpy as np\n",
    "\n",
    "# SQL Alchemy\n",
    "from sqlalchemy import create_engine, event\n",
    "import time\n",
    "from datetime import datetime\n",
    "\n",
    "# PyMySQL \n",
    "import pymysql\n",
    "pymysql.install_as_MySQLdb()\n",
    "\n",
    "# Config variables\n",
    "from config import local_db_user, local_db_pwd, local_db_endpoint, local_db_port, local_db_name\n",
    "from config import remote_db_user, remote_db_pwd, remote_db_endpoint, remote_db_port, remote_db_name\n",
    "\n",
    "warnings.filterwarnings('ignore')"
   ]
  },
  {
   "cell_type": "code",
   "execution_count": null,
   "metadata": {},
   "outputs": [],
   "source": [
    "#import our CSV file\n",
    "yearly_stats_all_pos_df = pd.read_csv('yearly data/all_players_yearly_stats_2002-2020.csv')\n",
    "yearly_stats_all_pos_df.head()"
   ]
  },
  {
   "cell_type": "code",
   "execution_count": null,
   "metadata": {},
   "outputs": [],
   "source": [
    "yearly_stats_all_pos_df.drop(['Rk', '2pt Convs Made', '2pt Conv Passes', 'FPts', \n",
    "       'DK Fpts', 'FD Fpts', 'VBD', 'Pos Rank', 'Overall Rank', 'Fumbles', 'Games Started'], axis=1, inplace=True)"
   ]
  },
  {
   "cell_type": "code",
   "execution_count": null,
   "metadata": {},
   "outputs": [],
   "source": [
    "yearly_stats_all_pos_df.columns"
   ]
  },
  {
   "cell_type": "code",
   "execution_count": null,
   "metadata": {},
   "outputs": [],
   "source": [
    "#yearly_stats_all_pos_df['FantasyPoints'] = yearly_stats_all_pos_df['Rush Yds']*0.1 + yearly_stats_all_pos_df['Rush TD']*6 + yearly_stats_all_pos_df['Receptions'] + yearly_stats_all_pos_df['Rec Yds']*0.1 + yearly_stats_all_pos_df['Rec TD']*6 - yearly_stats_all_pos_df['Fumbles Lost']*2 + yearly_stats_all_pos_df['Pass Yds']*0.04 + yearly_stats_all_pos_df['Pass TD']*4"
   ]
  },
  {
   "cell_type": "code",
   "execution_count": null,
   "metadata": {},
   "outputs": [],
   "source": [
    "yearly_stats_all_pos_df['FantasyPoints'] = yearly_stats_all_pos_df['PPR']"
   ]
  },
  {
   "cell_type": "code",
   "execution_count": null,
   "metadata": {},
   "outputs": [],
   "source": [
    "#Create new column for Fantasy points per game.\n",
    "yearly_stats_all_pos_df['FantasyPoints/Game'] = yearly_stats_all_pos_df['FantasyPoints']/yearly_stats_all_pos_df['Games Played']\n",
    "yearly_stats_all_pos_df['FantasyPoints/Game'] = yearly_stats_all_pos_df['FantasyPoints/Game'].apply(lambda x: round(x, 2))"
   ]
  },
  {
   "cell_type": "code",
   "execution_count": null,
   "metadata": {},
   "outputs": [],
   "source": [
    "yearly_stats_all_pos_df = yearly_stats_all_pos_df[yearly_stats_all_pos_df['Season'] == 2020]"
   ]
  },
  {
   "cell_type": "code",
   "execution_count": null,
   "metadata": {},
   "outputs": [],
   "source": [
    "#separate dataframes based off position\n",
    "rb_df = yearly_stats_all_pos_df[yearly_stats_all_pos_df['Pos'] == 'RB']\n",
    "qb_df = yearly_stats_all_pos_df[yearly_stats_all_pos_df['Pos'] == 'QB']\n",
    "wr_df = yearly_stats_all_pos_df[yearly_stats_all_pos_df['Pos'] == 'WR']\n",
    "te_df = yearly_stats_all_pos_df[yearly_stats_all_pos_df['Pos'] == 'TE']"
   ]
  },
  {
   "cell_type": "code",
   "execution_count": null,
   "metadata": {},
   "outputs": [],
   "source": []
  },
  {
   "cell_type": "code",
   "execution_count": null,
   "metadata": {},
   "outputs": [],
   "source": []
  },
  {
   "cell_type": "code",
   "execution_count": null,
   "metadata": {},
   "outputs": [],
   "source": []
  },
  {
   "cell_type": "markdown",
   "metadata": {},
   "source": [
    "# Grab Headshots"
   ]
  },
  {
   "cell_type": "code",
   "execution_count": null,
   "metadata": {},
   "outputs": [],
   "source": [
    "#bring in roster data\n",
    "roster_df = pd.read_csv('roster_2020.csv')\n",
    "\n",
    "#change the player name column to have the same format as our passing_df one\n",
    "#roster_df['receiver_player_name'] = roster_df['teamPlayers.displayName'].apply(lambda x: '.'.join([x.split()[0][0], x.split()[-1]]))\n",
    "\n",
    "#filter our results a bit more so we get closer to our solution\n",
    "roster_df = roster_df.loc[roster_df['position'].isin(['QB', 'RB', 'WR', 'TE']), ['full_name', 'headshot_url']]\n",
    "\n",
    "#reset the index to a range index 0 -> len(roster_df)\n",
    "roster_df = roster_df.reset_index(drop=True)\n",
    "\n",
    "roster_df"
   ]
  },
  {
   "cell_type": "code",
   "execution_count": null,
   "metadata": {},
   "outputs": [],
   "source": []
  },
  {
   "cell_type": "code",
   "execution_count": null,
   "metadata": {},
   "outputs": [],
   "source": []
  },
  {
   "cell_type": "code",
   "execution_count": null,
   "metadata": {},
   "outputs": [],
   "source": []
  },
  {
   "cell_type": "markdown",
   "metadata": {},
   "source": [
    "# RB: Compare usage vs efficiency "
   ]
  },
  {
   "cell_type": "code",
   "execution_count": null,
   "metadata": {},
   "outputs": [],
   "source": [
    "#Create new column for usage per game. Usage is defined as # of targets + carries\n",
    "rb_df['Usage/Game'] = (rb_df['Rush Att'] + rb_df['Rec Tgt'])/rb_df['Games Played']\n",
    "\n",
    "#round each row value to two decimal places\n",
    "rb_df['Usage/Game'] = rb_df['Usage/Game'].apply(lambda x: round(x, 2))\n",
    "\n",
    "rb_df['Usage'] = rb_df['Rec Tgt'] + rb_df['Rush Att'] # create a new column for usage\n",
    "rb_df['UsageRank'] = rb_df['Usage'].rank(ascending=False)\n",
    "rb_df['FantasyPointsRank'] = rb_df['FantasyPoints'].rank(ascending=False)"
   ]
  },
  {
   "cell_type": "code",
   "execution_count": null,
   "metadata": {},
   "outputs": [],
   "source": [
    "#just for styling. We imported seaborn earlier as sns.\n",
    "sns.set_style('whitegrid')\n",
    "\n",
    "#create a canvas with matplotlib\n",
    "fig, ax = plt.subplots()\n",
    "fig.set_size_inches(5,5)\n",
    "\n",
    "#basic regression scatter plot with trendline\n",
    "plot = sns.regplot(\n",
    "x=rb_df['Usage/Game'],\n",
    "y=rb_df['FantasyPoints/Game'],\n",
    "scatter=True,)\n",
    "\n",
    "plt.tight_layout();\n",
    "plt.savefig('../static/images/RB_usage_per_game', dpi=None, facecolor='w', edgecolor='w',\n",
    "        orientation='portrait', papertype=None, format=None,\n",
    "        transparent=True, bbox_inches=None, pad_inches=0.1,\n",
    "        frameon=None, metadata=None)\n",
    "\n",
    "\n",
    "#How does efficiency correlate to fantasy football performance?\n",
    "rb_df['TD/Usage'] = (rb_df['Rush TD']+ rb_df['Rec TD'])/(rb_df['Rush Att'] + rb_df['Rec Tgt'])\n",
    "fig, ax = plt.subplots()\n",
    "fig.set_size_inches(5,5)\n",
    "\n",
    "#Make sure there is an adequete sample size\n",
    "rb_df = rb_df[rb_df['Rush Att'] > 20]\n",
    "plot = sns.regplot(\n",
    "x=rb_df['TD/Usage'],\n",
    "y=rb_df['FantasyPoints/Game'],\n",
    "scatter=True)\n",
    "\n",
    "plt.tight_layout();\n",
    "plt.savefig('../static/images/RB_TD_per_usage', dpi=None, facecolor='w', edgecolor='w',\n",
    "        orientation='portrait', papertype=None, format=None,\n",
    "        transparent=True, bbox_inches=None, pad_inches=0.1,\n",
    "        frameon=None, metadata=None)"
   ]
  },
  {
   "cell_type": "code",
   "execution_count": null,
   "metadata": {},
   "outputs": [],
   "source": [
    "from sklearn.model_selection import train_test_split\n",
    "X = rb_df['Usage'].values.reshape(-1, 1)\n",
    "Y = rb_df['FantasyPoints'].values.reshape(-1, 1)\n",
    "x_train, x_test, y_train, y_test = train_test_split(X, Y, test_size=0.2)"
   ]
  },
  {
   "cell_type": "code",
   "execution_count": null,
   "metadata": {},
   "outputs": [],
   "source": [
    "regressor = LinearRegression()  \n",
    "regressor.fit(x_train, y_train) #training the algorithm\n",
    "y_pred = regressor.predict(x_test)"
   ]
  },
  {
   "cell_type": "code",
   "execution_count": null,
   "metadata": {},
   "outputs": [],
   "source": [
    "df = pd.DataFrame({'Actual': y_test.flatten(), 'Predicted': y_pred.flatten()})\n",
    "df.head()"
   ]
  },
  {
   "cell_type": "code",
   "execution_count": null,
   "metadata": {},
   "outputs": [],
   "source": [
    "rb_df['FantasyPointPrediction'] = regressor.predict(X) # create a new column for usage\n",
    "\n",
    "#round each row value to two decimal places\n",
    "rb_df['FantasyPointPrediction'] = rb_df['FantasyPointPrediction'].apply(lambda x: round(x, 1))"
   ]
  },
  {
   "cell_type": "code",
   "execution_count": null,
   "metadata": {},
   "outputs": [],
   "source": [
    "rb_df_with_headshots = rb_df.merge(roster_df, left_on='Player', right_on='full_name', how='left')\n",
    "rb_df_with_headshots = rb_df_with_headshots.sort_values(by='UsageRank')   \n",
    "\n",
    "#reset the index to a range index 0 -> length\n",
    "rb_df_with_headshots = rb_df_with_headshots.reset_index(drop=True)\n",
    "\n",
    "rb_df_with_headshots.head(10) "
   ]
  },
  {
   "cell_type": "code",
   "execution_count": null,
   "metadata": {},
   "outputs": [],
   "source": []
  },
  {
   "cell_type": "code",
   "execution_count": null,
   "metadata": {},
   "outputs": [],
   "source": []
  },
  {
   "cell_type": "code",
   "execution_count": null,
   "metadata": {},
   "outputs": [],
   "source": []
  },
  {
   "cell_type": "markdown",
   "metadata": {},
   "source": [
    "# WR: Compare usage vs efficiency"
   ]
  },
  {
   "cell_type": "code",
   "execution_count": null,
   "metadata": {},
   "outputs": [],
   "source": [
    "#Create new column for usage per game. Usage is defined as # of targets + carries\n",
    "wr_df['Usage/Game'] = (wr_df['Rush Att'] + wr_df['Rec Tgt'])/wr_df['Games Played']\n",
    "\n",
    "#round each row value to two decimal places\n",
    "wr_df['Usage/Game'] = wr_df['Usage/Game'].apply(lambda x: round(x, 2))\n",
    "\n",
    "wr_df['Usage'] = wr_df['Rec Tgt'] + wr_df['Rush Att'] # create a new column for usage\n",
    "wr_df['UsageRank'] = wr_df['Usage'].rank(ascending=False)\n",
    "wr_df['FantasyPointsRank'] = wr_df['FantasyPoints'].rank(ascending=False)"
   ]
  },
  {
   "cell_type": "code",
   "execution_count": null,
   "metadata": {},
   "outputs": [],
   "source": [
    "#just for styling. We imported seaborn earlier as sns.\n",
    "sns.set_style('whitegrid')\n",
    "\n",
    "#create a canvas with matplotlib\n",
    "fig, ax = plt.subplots()\n",
    "fig.set_size_inches(5,5)\n",
    "\n",
    "#basic regression scatter plot with trendline\n",
    "plot = sns.regplot(\n",
    "x=wr_df['Usage/Game'],\n",
    "y=wr_df['FantasyPoints/Game'],\n",
    "scatter=True,)\n",
    "\n",
    "plt.tight_layout();\n",
    "plt.savefig('../static/images/WR_usage_per_game', dpi=None, facecolor='w', edgecolor='w',\n",
    "        orientation='portrait', papertype=None, format=None,\n",
    "        transparent=True, bbox_inches=None, pad_inches=0.1,\n",
    "        frameon=None, metadata=None)\n",
    "\n",
    "\n",
    "\n",
    "#How does efficiency correlate to fantasy football performance?\n",
    "wr_df['TD/Usage'] = (wr_df['Rush TD']+ wr_df['Rec TD'])/(wr_df['Rush Att'] + wr_df['Rec Tgt'])\n",
    "fig, ax = plt.subplots()\n",
    "fig.set_size_inches(5,5)\n",
    "\n",
    "#Make sure there is an adequete sample size\n",
    "wr_df = wr_df[wr_df['Receptions'] > 20]\n",
    "plot = sns.regplot(\n",
    "x=wr_df['TD/Usage'],\n",
    "y=wr_df['FantasyPoints/Game'],\n",
    "scatter=True)\n",
    "\n",
    "plt.tight_layout();\n",
    "plt.savefig('../static/images/WR_TD_per_usage', dpi=None, facecolor='w', edgecolor='w',\n",
    "        orientation='portrait', papertype=None, format=None,\n",
    "        transparent=True, bbox_inches=None, pad_inches=0.1,\n",
    "        frameon=None, metadata=None)"
   ]
  },
  {
   "cell_type": "code",
   "execution_count": null,
   "metadata": {},
   "outputs": [],
   "source": [
    "from sklearn.model_selection import train_test_split\n",
    "X = wr_df['Usage'].values.reshape(-1, 1)\n",
    "Y = wr_df['FantasyPoints'].values.reshape(-1, 1)\n",
    "x_train, x_test, y_train, y_test = train_test_split(X, Y, test_size=0.2)\n",
    "\n",
    "regressor = LinearRegression()  \n",
    "regressor.fit(x_train, y_train) #training the algorithm\n",
    "y_pred = regressor.predict(x_test)\n",
    "\n",
    "df = pd.DataFrame({'Actual': y_test.flatten(), 'Predicted': y_pred.flatten()})\n",
    "df.head()"
   ]
  },
  {
   "cell_type": "code",
   "execution_count": null,
   "metadata": {},
   "outputs": [],
   "source": [
    "wr_df['FantasyPointPrediction'] = regressor.predict(X) # create a new column for usage\n",
    "\n",
    "wr_df['FantasyPointPrediction'] = wr_df['FantasyPointPrediction'].apply(lambda x: round(x, 1))"
   ]
  },
  {
   "cell_type": "code",
   "execution_count": null,
   "metadata": {},
   "outputs": [],
   "source": [
    "wr_df_with_headshots = wr_df.merge(roster_df, left_on='Player', right_on='full_name', how='left')\n",
    "wr_df_with_headshots = wr_df_with_headshots.sort_values(by='UsageRank')  \n",
    "\n",
    "#reset the index to a range index 0 -> length\n",
    "wr_df_with_headshots = wr_df_with_headshots.reset_index(drop=True)\n",
    "\n",
    "wr_df_with_headshots.head(10)  "
   ]
  },
  {
   "cell_type": "code",
   "execution_count": null,
   "metadata": {},
   "outputs": [],
   "source": []
  },
  {
   "cell_type": "code",
   "execution_count": null,
   "metadata": {},
   "outputs": [],
   "source": []
  },
  {
   "cell_type": "code",
   "execution_count": null,
   "metadata": {},
   "outputs": [],
   "source": []
  },
  {
   "cell_type": "markdown",
   "metadata": {},
   "source": [
    "# TE: Compare usage vs efficiency\n"
   ]
  },
  {
   "cell_type": "code",
   "execution_count": null,
   "metadata": {},
   "outputs": [],
   "source": [
    "#Create new column for usage per game. Usage is defined as # of targets + carries\n",
    "te_df['Usage/Game'] = (te_df['Rush Att'] + te_df['Rec Tgt'])/te_df['Games Played']\n",
    "\n",
    "#round each row value to two decimal places\n",
    "te_df['Usage/Game'] = te_df['Usage/Game'].apply(lambda x: round(x, 2))\n",
    "\n",
    "te_df['Usage'] = te_df['Rec Tgt'] + te_df['Rush Att'] # create a new column for usage\n",
    "te_df['UsageRank'] = te_df['Usage'].rank(ascending=False)\n",
    "te_df['FantasyPointsRank'] = te_df['FantasyPoints'].rank(ascending=False)"
   ]
  },
  {
   "cell_type": "code",
   "execution_count": null,
   "metadata": {},
   "outputs": [],
   "source": [
    "#just for styling. We imported seaborn earlier as sns.\n",
    "sns.set_style('whitegrid')\n",
    "\n",
    "#create a canvas with matplotlib\n",
    "fig, ax = plt.subplots()\n",
    "fig.set_size_inches(5,5)\n",
    "\n",
    "#basic regression scatter plot with trendline\n",
    "plot = sns.regplot(\n",
    "x=te_df['Usage/Game'],\n",
    "y=te_df['FantasyPoints/Game'],\n",
    "scatter=True,)\n",
    "\n",
    "plt.tight_layout();\n",
    "plt.savefig('../static/images/TE_usage_per_game', dpi=None, facecolor='w', edgecolor='w',\n",
    "        orientation='portrait', papertype=None, format=None,\n",
    "        transparent=True, bbox_inches=None, pad_inches=0.1,\n",
    "        frameon=None, metadata=None)\n",
    "\n",
    "\n",
    "\n",
    "#How does efficiency correlate to fantasy football performance?\n",
    "te_df['TD/Usage'] = (te_df['Rush TD']+ te_df['Rec TD'])/(te_df['Rush Att'] + te_df['Rec Tgt'])\n",
    "fig, ax = plt.subplots()\n",
    "fig.set_size_inches(5,5)\n",
    "\n",
    "#Make sure there is an adequete sample size\n",
    "te_df = te_df[te_df['Receptions'] > 10]\n",
    "plot = sns.regplot(\n",
    "x=te_df['TD/Usage'],\n",
    "y=te_df['FantasyPoints/Game'],\n",
    "scatter=True)\n",
    "\n",
    "plt.tight_layout();\n",
    "plt.savefig('../static/images/TE_TD_per_usage', dpi=None, facecolor='w', edgecolor='w',\n",
    "        orientation='portrait', papertype=None, format=None,\n",
    "        transparent=True, bbox_inches=None, pad_inches=0.1,\n",
    "        frameon=None, metadata=None)"
   ]
  },
  {
   "cell_type": "code",
   "execution_count": null,
   "metadata": {},
   "outputs": [],
   "source": [
    "from sklearn.model_selection import train_test_split\n",
    "X = te_df['Usage'].values.reshape(-1, 1)\n",
    "Y = te_df['FantasyPoints'].values.reshape(-1, 1)\n",
    "x_train, x_test, y_train, y_test = train_test_split(X, Y, test_size=0.2)\n",
    "\n",
    "regressor = LinearRegression()  \n",
    "regressor.fit(x_train, y_train) #training the algorithm\n",
    "y_pred = regressor.predict(x_test)\n",
    "\n",
    "df = pd.DataFrame({'Actual': y_test.flatten(), 'Predicted': y_pred.flatten()})\n",
    "df.head()"
   ]
  },
  {
   "cell_type": "code",
   "execution_count": null,
   "metadata": {},
   "outputs": [],
   "source": [
    "te_df['FantasyPointPrediction'] = regressor.predict(X) # create a new column for usage\n",
    "\n",
    "te_df['FantasyPointPrediction'] = te_df['FantasyPointPrediction'].apply(lambda x: round(x, 1))"
   ]
  },
  {
   "cell_type": "code",
   "execution_count": null,
   "metadata": {},
   "outputs": [],
   "source": [
    "te_df_with_headshots = te_df.merge(roster_df, left_on='Player', right_on='full_name', how='left')\n",
    "te_df_with_headshots = te_df_with_headshots.sort_values(by='UsageRank') \n",
    "\n",
    "#reset the index to a range index 0 -> length\n",
    "te_df_with_headshots = te_df_with_headshots.reset_index(drop=True)\n",
    "\n",
    "te_df_with_headshots.head(10) "
   ]
  },
  {
   "cell_type": "code",
   "execution_count": null,
   "metadata": {},
   "outputs": [],
   "source": []
  },
  {
   "cell_type": "code",
   "execution_count": null,
   "metadata": {},
   "outputs": [],
   "source": []
  },
  {
   "cell_type": "code",
   "execution_count": null,
   "metadata": {},
   "outputs": [],
   "source": []
  },
  {
   "cell_type": "markdown",
   "metadata": {},
   "source": [
    "# QB: Compare usage vs efficiency\n"
   ]
  },
  {
   "cell_type": "code",
   "execution_count": null,
   "metadata": {},
   "outputs": [],
   "source": [
    "yearly_stats_all_pos_df.columns"
   ]
  },
  {
   "cell_type": "code",
   "execution_count": null,
   "metadata": {},
   "outputs": [],
   "source": [
    "#Create new column for usage per game. Usage is defined as # of targets + carries\n",
    "qb_df['Usage/Game'] = (qb_df['Pass Att'] + qb_df['Rush Att'])/qb_df['Games Played']\n",
    "\n",
    "#round each row value to two decimal places\n",
    "qb_df['Usage/Game'] = qb_df['Usage/Game'].apply(lambda x: round(x, 2))\n",
    "\n",
    "qb_df['Usage'] = qb_df['Pass Att'] + qb_df['Rush Att'] # create a new column for usage\n",
    "qb_df['UsageRank'] = qb_df['Usage'].rank(ascending=False)\n",
    "qb_df['FantasyPointsRank'] = qb_df['FantasyPoints'].rank(ascending=False)"
   ]
  },
  {
   "cell_type": "code",
   "execution_count": null,
   "metadata": {},
   "outputs": [],
   "source": [
    "qb_df"
   ]
  },
  {
   "cell_type": "code",
   "execution_count": null,
   "metadata": {},
   "outputs": [],
   "source": [
    "#just for styling. We imported seaborn earlier as sns.\n",
    "sns.set_style('whitegrid')\n",
    "\n",
    "#create a canvas with matplotlib\n",
    "fig, ax = plt.subplots()\n",
    "fig.set_size_inches(5,5)\n",
    "\n",
    "#basic regression scatter plot with trendline\n",
    "plot = sns.regplot(\n",
    "x=qb_df['Usage/Game'],\n",
    "y=qb_df['FantasyPoints/Game'],\n",
    "scatter=True,)\n",
    "\n",
    "plt.tight_layout();\n",
    "plt.savefig('../static/images/QB_usage_per_game', dpi=None, facecolor='w', edgecolor='w',\n",
    "        orientation='portrait', papertype=None, format=None,\n",
    "        transparent=True, bbox_inches=None, pad_inches=0.1,\n",
    "        frameon=None, metadata=None)\n",
    "\n",
    "\n",
    "\n",
    "#How does efficiency correlate to fantasy football performance?\n",
    "qb_df['TD/Usage'] = (qb_df['Pass TD']+ qb_df['Rush TD'])/(qb_df['Pass Att'] + qb_df['Rush Att'])\n",
    "fig, ax = plt.subplots()\n",
    "fig.set_size_inches(5,5)\n",
    "\n",
    "#Make sure there is an adequete sample size\n",
    "#qb_df = qb_df[qb_df['Receptions'] > 10]\n",
    "plot = sns.regplot(\n",
    "x=qb_df['TD/Usage'],\n",
    "y=qb_df['FantasyPoints/Game'],\n",
    "scatter=True)\n",
    "\n",
    "plt.tight_layout();\n",
    "plt.savefig('../static/images/QB_TD_per_usage', dpi=None, facecolor='w', edgecolor='w',\n",
    "        orientation='portrait', papertype=None, format=None,\n",
    "        transparent=True, bbox_inches=None, pad_inches=0.1,\n",
    "        frameon=None, metadata=None)"
   ]
  },
  {
   "cell_type": "code",
   "execution_count": null,
   "metadata": {},
   "outputs": [],
   "source": [
    "from sklearn.model_selection import train_test_split\n",
    "X = qb_df['Usage'].values.reshape(-1, 1)\n",
    "Y = qb_df['FantasyPoints'].values.reshape(-1, 1)\n",
    "x_train, x_test, y_train, y_test = train_test_split(X, Y, test_size=0.2)\n",
    "\n",
    "regressor = LinearRegression()  \n",
    "regressor.fit(x_train, y_train) #training the algorithm\n",
    "y_pred = regressor.predict(x_test)\n",
    "\n",
    "df = pd.DataFrame({'Actual': y_test.flatten(), 'Predicted': y_pred.flatten()})\n",
    "df.head()"
   ]
  },
  {
   "cell_type": "code",
   "execution_count": null,
   "metadata": {},
   "outputs": [],
   "source": [
    "qb_df['FantasyPointPrediction'] = regressor.predict(X) # create a new column for usage\n",
    "\n",
    "qb_df['FantasyPointPrediction'] = qb_df['FantasyPointPrediction'].apply(lambda x: round(x, 1))"
   ]
  },
  {
   "cell_type": "code",
   "execution_count": null,
   "metadata": {},
   "outputs": [],
   "source": [
    "qb_df_with_headshots = qb_df.merge(roster_df, left_on='Player', right_on='full_name', how='left')\n",
    "qb_df_with_headshots = qb_df_with_headshots.sort_values(by='UsageRank')   \n",
    "\n",
    "#reset the index to a range index 0 -> length\n",
    "qb_df_with_headshots = qb_df_with_headshots.reset_index(drop=True)\n",
    "\n",
    "qb_df_with_headshots.head(10) "
   ]
  },
  {
   "cell_type": "code",
   "execution_count": null,
   "metadata": {},
   "outputs": [],
   "source": []
  },
  {
   "cell_type": "code",
   "execution_count": null,
   "metadata": {},
   "outputs": [],
   "source": []
  },
  {
   "cell_type": "code",
   "execution_count": null,
   "metadata": {},
   "outputs": [],
   "source": []
  },
  {
   "cell_type": "markdown",
   "metadata": {},
   "source": [
    "# Add to MySQL"
   ]
  },
  {
   "cell_type": "code",
   "execution_count": 6,
   "metadata": {},
   "outputs": [
    {
     "name": "stdout",
     "output_type": "stream",
     "text": [
      "(pymysql.err.ProgrammingError) (1007, \"Can't create database 'fantasy_project'; database exists\")\n",
      "[SQL: CREATE DATABASE fantasy_project]\n",
      "(Background on this error at: http://sqlalche.me/e/13/f405)\n"
     ]
    },
    {
     "data": {
      "text/plain": [
       "['fantasy_stats',\n",
       " 'qb_df_with_headshots',\n",
       " 'rb_df_with_headshots',\n",
       " 'super_bowl_stats',\n",
       " 'te_df_with_headshots',\n",
       " 'wr_df_with_headshots']"
      ]
     },
     "execution_count": 6,
     "metadata": {},
     "output_type": "execute_result"
    }
   ],
   "source": [
    "# Create Engine and Pass in MySQL Connection\n",
    "\n",
    "# Remote MySQL DB Connection  \n",
    "remote_engine = create_engine(f\"mysql://{remote_db_user}:{remote_db_pwd}@{remote_db_endpoint}:{remote_db_port}\")\n",
    "#print(f\"postgresql://{local_db_user}:{local_db_pwd}@{local_db_endpoint}:{local_db_port}\")\n",
    "\n",
    "# Create a local database engine connection\n",
    "remote_conn = remote_engine.connect()\n",
    "\n",
    "# Create remote database\n",
    "try:\n",
    "    remote_conn.execution_options(isolation_level=\"AUTOCOMMIT\").execute(f\"CREATE DATABASE {remote_db_name}\")\n",
    "except Exception as e:\n",
    "    print(e)\n",
    "\n",
    "# Connect to remote database\n",
    "try:\n",
    "    remote_engine = create_engine(f\"mysql://{remote_db_user}:{remote_db_pwd}@{remote_db_endpoint}:{remote_db_port}/{remote_db_name}\")\n",
    "    remote_conn = remote_engine.connect()\n",
    "except Exception as e:\n",
    "    print(e)  \n",
    "    \n",
    "#confirm tables\n",
    "remote_engine.table_names()"
   ]
  },
  {
   "cell_type": "code",
   "execution_count": null,
   "metadata": {},
   "outputs": [],
   "source": [
    "rb_df_with_headshots.to_sql(name='rb_df_with_headshots', if_exists='replace', con=remote_conn, index=False)\n",
    "wr_df_with_headshots.to_sql(name='wr_df_with_headshots', if_exists='replace', con=remote_conn, index=False)\n",
    "te_df_with_headshots.to_sql(name='te_df_with_headshots', if_exists='replace', con=remote_conn, index=False)\n",
    "qb_df_with_headshots.to_sql(name='qb_df_with_headshots', if_exists='replace', con=remote_conn, index=False)"
   ]
  },
  {
   "cell_type": "code",
   "execution_count": 9,
   "metadata": {},
   "outputs": [
    {
     "data": {
      "text/plain": [
       "['2021_predictions',\n",
       " 'fantasy_stats',\n",
       " 'qb_df_with_headshots',\n",
       " 'rb_df_with_headshots',\n",
       " 'super_bowl_stats',\n",
       " 'te_df_with_headshots',\n",
       " 'wr_df_with_headshots']"
      ]
     },
     "execution_count": 9,
     "metadata": {},
     "output_type": "execute_result"
    }
   ],
   "source": [
    "#confirm tables\n",
    "remote_engine.table_names()"
   ]
  },
  {
   "cell_type": "code",
   "execution_count": null,
   "metadata": {},
   "outputs": [],
   "source": []
  },
  {
   "cell_type": "code",
   "execution_count": null,
   "metadata": {},
   "outputs": [],
   "source": []
  },
  {
   "cell_type": "code",
   "execution_count": null,
   "metadata": {},
   "outputs": [],
   "source": []
  },
  {
   "cell_type": "markdown",
   "metadata": {},
   "source": [
    "# predictions df"
   ]
  },
  {
   "cell_type": "code",
   "execution_count": 5,
   "metadata": {},
   "outputs": [
    {
     "data": {
      "text/html": [
       "<div>\n",
       "<style scoped>\n",
       "    .dataframe tbody tr th:only-of-type {\n",
       "        vertical-align: middle;\n",
       "    }\n",
       "\n",
       "    .dataframe tbody tr th {\n",
       "        vertical-align: top;\n",
       "    }\n",
       "\n",
       "    .dataframe thead th {\n",
       "        text-align: right;\n",
       "    }\n",
       "</style>\n",
       "<table border=\"1\" class=\"dataframe\">\n",
       "  <thead>\n",
       "    <tr style=\"text-align: right;\">\n",
       "      <th></th>\n",
       "      <th>SEASON</th>\n",
       "      <th>Player</th>\n",
       "      <th>Position</th>\n",
       "      <th>Predicted 2021 Fantasy Points</th>\n",
       "      <th>TDS</th>\n",
       "      <th>YDS</th>\n",
       "      <th>PASS YDS</th>\n",
       "      <th>PASS TD</th>\n",
       "      <th>PASS INT</th>\n",
       "      <th>RUSH YDS</th>\n",
       "      <th>RUSH TD</th>\n",
       "      <th>REC</th>\n",
       "      <th>REC YDS</th>\n",
       "      <th>REC TD</th>\n",
       "    </tr>\n",
       "  </thead>\n",
       "  <tbody>\n",
       "    <tr>\n",
       "      <th>0</th>\n",
       "      <td>2021</td>\n",
       "      <td>Patrick Mahomes</td>\n",
       "      <td>QB</td>\n",
       "      <td>358.63868</td>\n",
       "      <td>40.000000</td>\n",
       "      <td>4888.666667</td>\n",
       "      <td>4622.666667</td>\n",
       "      <td>38.000000</td>\n",
       "      <td>7.666667</td>\n",
       "      <td>266.000000</td>\n",
       "      <td>2.000000</td>\n",
       "      <td>0.000000</td>\n",
       "      <td>0.000000</td>\n",
       "      <td>0.000000</td>\n",
       "    </tr>\n",
       "    <tr>\n",
       "      <th>1</th>\n",
       "      <td>2021</td>\n",
       "      <td>Deshaun Watson</td>\n",
       "      <td>QB</td>\n",
       "      <td>334.13868</td>\n",
       "      <td>33.666667</td>\n",
       "      <td>4751.333333</td>\n",
       "      <td>4280.000000</td>\n",
       "      <td>28.333333</td>\n",
       "      <td>9.333333</td>\n",
       "      <td>469.333333</td>\n",
       "      <td>5.000000</td>\n",
       "      <td>0.333333</td>\n",
       "      <td>2.000000</td>\n",
       "      <td>0.333333</td>\n",
       "    </tr>\n",
       "    <tr>\n",
       "      <th>2</th>\n",
       "      <td>2021</td>\n",
       "      <td>Justin Herbert</td>\n",
       "      <td>QB</td>\n",
       "      <td>333.13868</td>\n",
       "      <td>36.000000</td>\n",
       "      <td>4570.000000</td>\n",
       "      <td>4336.000000</td>\n",
       "      <td>31.000000</td>\n",
       "      <td>10.000000</td>\n",
       "      <td>234.000000</td>\n",
       "      <td>5.000000</td>\n",
       "      <td>0.000000</td>\n",
       "      <td>0.000000</td>\n",
       "      <td>0.000000</td>\n",
       "    </tr>\n",
       "    <tr>\n",
       "      <th>3</th>\n",
       "      <td>2021</td>\n",
       "      <td>Kyler Murray</td>\n",
       "      <td>QB</td>\n",
       "      <td>324.01368</td>\n",
       "      <td>30.500000</td>\n",
       "      <td>4528.000000</td>\n",
       "      <td>3846.500000</td>\n",
       "      <td>23.000000</td>\n",
       "      <td>12.000000</td>\n",
       "      <td>681.500000</td>\n",
       "      <td>7.500000</td>\n",
       "      <td>0.000000</td>\n",
       "      <td>0.000000</td>\n",
       "      <td>0.000000</td>\n",
       "    </tr>\n",
       "    <tr>\n",
       "      <th>4</th>\n",
       "      <td>2021</td>\n",
       "      <td>Russell Wilson</td>\n",
       "      <td>QB</td>\n",
       "      <td>321.63868</td>\n",
       "      <td>37.000000</td>\n",
       "      <td>4330.000000</td>\n",
       "      <td>3923.333333</td>\n",
       "      <td>35.333333</td>\n",
       "      <td>8.333333</td>\n",
       "      <td>410.333333</td>\n",
       "      <td>1.666667</td>\n",
       "      <td>0.333333</td>\n",
       "      <td>-3.666667</td>\n",
       "      <td>0.000000</td>\n",
       "    </tr>\n",
       "  </tbody>\n",
       "</table>\n",
       "</div>"
      ],
      "text/plain": [
       "   SEASON           Player Position  Predicted 2021 Fantasy Points        TDS  \\\n",
       "0    2021  Patrick Mahomes       QB                      358.63868  40.000000   \n",
       "1    2021   Deshaun Watson       QB                      334.13868  33.666667   \n",
       "2    2021   Justin Herbert       QB                      333.13868  36.000000   \n",
       "3    2021     Kyler Murray       QB                      324.01368  30.500000   \n",
       "4    2021   Russell Wilson       QB                      321.63868  37.000000   \n",
       "\n",
       "           YDS     PASS YDS    PASS TD   PASS INT    RUSH YDS   RUSH TD  \\\n",
       "0  4888.666667  4622.666667  38.000000   7.666667  266.000000  2.000000   \n",
       "1  4751.333333  4280.000000  28.333333   9.333333  469.333333  5.000000   \n",
       "2  4570.000000  4336.000000  31.000000  10.000000  234.000000  5.000000   \n",
       "3  4528.000000  3846.500000  23.000000  12.000000  681.500000  7.500000   \n",
       "4  4330.000000  3923.333333  35.333333   8.333333  410.333333  1.666667   \n",
       "\n",
       "        REC   REC YDS    REC TD  \n",
       "0  0.000000  0.000000  0.000000  \n",
       "1  0.333333  2.000000  0.333333  \n",
       "2  0.000000  0.000000  0.000000  \n",
       "3  0.000000  0.000000  0.000000  \n",
       "4  0.333333 -3.666667  0.000000  "
      ]
     },
     "execution_count": 5,
     "metadata": {},
     "output_type": "execute_result"
    }
   ],
   "source": [
    "#import our CSV file\n",
    "predictions_df = pd.read_csv('table.csv')\n",
    "predictions_df.head()\n"
   ]
  },
  {
   "cell_type": "code",
   "execution_count": 8,
   "metadata": {},
   "outputs": [],
   "source": [
    "predictions_df.to_sql(name='2021_predictions', if_exists='replace', con=remote_conn, index=False)"
   ]
  },
  {
   "cell_type": "code",
   "execution_count": 10,
   "metadata": {},
   "outputs": [
    {
     "data": {
      "text/plain": [
       "Index(['SEASON', 'Player', 'Position', 'Predicted 2021 Fantasy Points', 'TDS',\n",
       "       'YDS', 'PASS YDS', 'PASS TD', 'PASS INT', 'RUSH YDS', 'RUSH TD', 'REC',\n",
       "       'REC YDS', 'REC TD'],\n",
       "      dtype='object')"
      ]
     },
     "execution_count": 10,
     "metadata": {},
     "output_type": "execute_result"
    }
   ],
   "source": [
    "predictions_df.columns"
   ]
  },
  {
   "cell_type": "code",
   "execution_count": null,
   "metadata": {},
   "outputs": [],
   "source": []
  }
 ],
 "metadata": {
  "kernelspec": {
   "display_name": "Python 3",
   "language": "python",
   "name": "python3"
  },
  "language_info": {
   "codemirror_mode": {
    "name": "ipython",
    "version": 3
   },
   "file_extension": ".py",
   "mimetype": "text/x-python",
   "name": "python",
   "nbconvert_exporter": "python",
   "pygments_lexer": "ipython3",
   "version": "3.8.3"
  }
 },
 "nbformat": 4,
 "nbformat_minor": 4
}
